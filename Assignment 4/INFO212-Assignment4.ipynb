{
 "cells": [
  {
   "cell_type": "markdown",
   "metadata": {},
   "source": [
    "<h1 style=\"text-align:center\"> Drexel University </h1>\n",
    "<h2 style = \"text-align:center\"> College of Computing and Informatics</h2>\n",
    "<h2 style = \"text-align:center\">INFO 212: Data Science Programming I</h2>\n",
    "<h3 style = \"text-align:center\">Assignment 4</h3>\n",
    "<div style=\"text-align:center; border-style:solid; padding: 10px\">\n",
    "<div style=\"font-weight:bold\">Due Date: Sunday, May 27, 2018</div>\n",
    "This assignment counts for 15% of the final grade\n",
    "</div>\n",
    "\n",
    "<h3 style=\"color:red; font-weight:bold; text-decoration: underline\">DON'T FORGET TO PUT YOUR NAME BELOW</h3>\n",
    "\n",
    "### NAME: Linh Mai\n",
    "\n",
    "\n",
    "### A. Assignment Overview\n",
    "This assignment provides the opportunity for you to practice with the capabilities of data wrangling in Python. \n",
    "\n",
    "### B. What to Hand In\n",
    "\t\n",
    "Sumbit a completed this Jupyter notebook. \n",
    "\n",
    "### C. How to Hand In\n",
    "\n",
    "Submit your Jupyter notebook file through the course website in the Blackboard Learn system.\n",
    "\n",
    "### D. When to Hand In\n",
    "\n",
    "1. Submit your assignment no later than 11:59pm in the due date.\n",
    "2. There will be a 10% (absolute value) deduction for each day of lateness, to a maximum of 3 days; assignments will not be accepted beyond that point. Missing work will earn a zero grade.\n",
    "\n",
    "### E. Written Presentation Requirements (if applicable)\n",
    "Images must be clear and legible. Assignments will be judged on the basis of visual appearance, grammatical correctness, and quality of writing, as well as their contents. Please make sure that the text of your assignments is well-structured, using paragraphs, full sentences, and other features of well-written presentation. Text font size should be either 11 or 12 points.\n",
    "\n",
    "### F. Marking Schemes:\n",
    "\n",
    "Marking assignments will be based on several aspects: presentation, correctness and coding styles. \n",
    "\n",
    "For programming questions, 10% of the mark will be judged on the coding style. \n",
    "\n",
    "The following is a set of guidelines for the coding style in this course:\n",
    "1. Write a good comment for each variable, each method, each control branch, and each loop.\n",
    "2. Use appropriate indentations to indicate control flows and blocks of code. \n",
    "3. Your method comments must mention the purpose of each parameter, and must be grammatically correct. \n",
    "4. Each line must be less than 80 characters long including tabs and spaces. \n",
    "5. Put a blank space before and after every operator. \n",
    "6. When breaking up a long line, break it before an operator, not after. \n",
    "\n",
    "### G. Data Sets\n",
    "\n",
    "This assignment needs the data sets specified in the questions.\n",
    "\n",
    "### H. Answer the following questions"
   ]
  },
  {
   "cell_type": "markdown",
   "metadata": {},
   "source": [
    "## Question 1:\n",
    "\n",
    "Download the dataset: `loan-applications.csv` and load it into a data frame. The data set contains several hundreds of loan application data. This data set provides a glimse of what bank and insurance companies facing during their data analyses. The goal is to automate the loan application process based on applicants' information. This data set contains many features of applicants, including: Gender, Marital Status, Education, Number of Dependents, Income, Loan Amount, Credit History and others. The main problem is that the data set contains missing values and different types of data. Here, you are asked to write code to clean and visualize the data and answer the following questions:\n",
    "- List the number of missing values for each column.\n",
    "- Remove the applications each of which has more than 2 missing values.\n",
    "- Forward fill up the missing values for columns with Object data type.\n",
    "- Fill up the missing values with their means for columns with numerical data types.\n",
    "- After the above steps, show that there are no missing data in the DataFrame.\n",
    "- Plot the relationship between Education and ApplicantIncome.\n",
    "- Plot the relationship between Property_Area and Loan_Status.\n",
    "- Categorize the ApplicantIncome into low (0-2000), medium (2000-20000), High(20000-50000), and Rich(>50000).\n",
    "- Plot the relationship between Loan_Status and the categories of ApplicantIncome.\n",
    "- Categorize the CoapplicantIncome into low (0-2000), medium (2000-10000), High(10000-20000), and Rich(>20000).\n",
    "- Plot the relationship between Loan_Status and the categories of CoapplicantIncome. \n",
    "- Develop plots to show the relationships between Load_Status and Education, Married, Credit_History. \n",
    "- For all the columns with no-numerical data (except for Loan_ID), convert the values to numerical categorical representations."
   ]
  },
  {
   "cell_type": "code",
<<<<<<< HEAD
   "execution_count": 128,
=======
<<<<<<< HEAD
   "execution_count": 2,
=======
   "execution_count": 1,
>>>>>>> 9d24e6af5c8493e00bf16472b648ccc5b9723814
>>>>>>> b64de5ec50052dbe96b00ddeaf4fdafd3476ec53
   "metadata": {},
   "outputs": [],
   "source": [
    "import numpy as np\n",
    "import pandas as pd\n",
    "PREVIOUS_MAX_ROWS = pd.options.display.max_rows\n",
    "pd.options.display.max_rows = 20\n",
    "np.random.seed(12345)\n",
    "import matplotlib.pyplot as plt\n",
    "plt.rc('figure', figsize=(10, 6))\n",
    "np.set_printoptions(precision=4, suppress=True)\n",
    "%matplotlib inline"
   ]
  },
  {
   "cell_type": "code",
<<<<<<< HEAD
   "execution_count": 129,
=======
<<<<<<< HEAD
   "execution_count": 3,
=======
   "execution_count": 2,
>>>>>>> 9d24e6af5c8493e00bf16472b648ccc5b9723814
>>>>>>> b64de5ec50052dbe96b00ddeaf4fdafd3476ec53
   "metadata": {},
   "outputs": [
    {
     "data": {
      "text/plain": [
       "Loan_ID               0\n",
       "Gender               13\n",
       "Married               3\n",
       "Dependents           15\n",
       "Education             0\n",
       "Self_Employed        32\n",
       "ApplicantIncome       0\n",
       "CoapplicantIncome     0\n",
       "LoanAmount           22\n",
       "Loan_Amount_Term     14\n",
       "Credit_History       50\n",
       "Property_Area         0\n",
       "Loan_Status           0\n",
       "dtype: int64"
      ]
     },
<<<<<<< HEAD
     "execution_count": 129,
=======
<<<<<<< HEAD
     "execution_count": 3,
=======
     "execution_count": 2,
>>>>>>> 9d24e6af5c8493e00bf16472b648ccc5b9723814
>>>>>>> b64de5ec50052dbe96b00ddeaf4fdafd3476ec53
     "metadata": {},
     "output_type": "execute_result"
    }
   ],
   "source": [
    "# Write your code below\n",
    "loan_df = pd.read_csv(\"datasets/loan-applications.csv\")\n",
    "column_null = loan_df.isnull().sum()\n",
    "column_null"
   ]
  },
  {
   "cell_type": "code",
<<<<<<< HEAD
   "execution_count": 130,
=======
<<<<<<< HEAD
   "execution_count": 4,
=======
   "execution_count": 3,
>>>>>>> 9d24e6af5c8493e00bf16472b648ccc5b9723814
>>>>>>> b64de5ec50052dbe96b00ddeaf4fdafd3476ec53
   "metadata": {},
   "outputs": [
    {
     "data": {
      "text/html": [
       "<div>\n",
       "<style scoped>\n",
       "    .dataframe tbody tr th:only-of-type {\n",
       "        vertical-align: middle;\n",
       "    }\n",
       "\n",
       "    .dataframe tbody tr th {\n",
       "        vertical-align: top;\n",
       "    }\n",
       "\n",
       "    .dataframe thead th {\n",
       "        text-align: right;\n",
       "    }\n",
       "</style>\n",
       "<table border=\"1\" class=\"dataframe\">\n",
       "  <thead>\n",
       "    <tr style=\"text-align: right;\">\n",
       "      <th></th>\n",
       "      <th>Loan_ID</th>\n",
       "      <th>Gender</th>\n",
       "      <th>Married</th>\n",
       "      <th>Dependents</th>\n",
       "      <th>Education</th>\n",
       "      <th>Self_Employed</th>\n",
       "      <th>ApplicantIncome</th>\n",
       "      <th>CoapplicantIncome</th>\n",
       "      <th>LoanAmount</th>\n",
       "      <th>Loan_Amount_Term</th>\n",
       "      <th>Credit_History</th>\n",
       "      <th>Property_Area</th>\n",
       "      <th>Loan_Status</th>\n",
       "    </tr>\n",
       "  </thead>\n",
       "  <tbody>\n",
       "    <tr>\n",
       "      <th>0</th>\n",
       "      <td>LP001002</td>\n",
       "      <td>Male</td>\n",
       "      <td>No</td>\n",
       "      <td>0</td>\n",
       "      <td>Graduate</td>\n",
       "      <td>No</td>\n",
       "      <td>5849</td>\n",
       "      <td>0.0</td>\n",
       "      <td>NaN</td>\n",
       "      <td>360.0</td>\n",
       "      <td>1.0</td>\n",
       "      <td>Urban</td>\n",
       "      <td>Y</td>\n",
       "    </tr>\n",
       "    <tr>\n",
       "      <th>1</th>\n",
       "      <td>LP001003</td>\n",
       "      <td>Male</td>\n",
       "      <td>Yes</td>\n",
       "      <td>1</td>\n",
       "      <td>Graduate</td>\n",
       "      <td>No</td>\n",
       "      <td>4583</td>\n",
       "      <td>1508.0</td>\n",
       "      <td>128.0</td>\n",
       "      <td>360.0</td>\n",
       "      <td>1.0</td>\n",
       "      <td>Rural</td>\n",
       "      <td>N</td>\n",
       "    </tr>\n",
       "    <tr>\n",
       "      <th>2</th>\n",
       "      <td>LP001005</td>\n",
       "      <td>Male</td>\n",
       "      <td>Yes</td>\n",
       "      <td>0</td>\n",
       "      <td>Graduate</td>\n",
       "      <td>Yes</td>\n",
       "      <td>3000</td>\n",
       "      <td>0.0</td>\n",
       "      <td>66.0</td>\n",
       "      <td>360.0</td>\n",
       "      <td>1.0</td>\n",
       "      <td>Urban</td>\n",
       "      <td>Y</td>\n",
       "    </tr>\n",
       "    <tr>\n",
       "      <th>3</th>\n",
       "      <td>LP001006</td>\n",
       "      <td>Male</td>\n",
       "      <td>Yes</td>\n",
       "      <td>0</td>\n",
       "      <td>Not Graduate</td>\n",
       "      <td>No</td>\n",
       "      <td>2583</td>\n",
       "      <td>2358.0</td>\n",
       "      <td>120.0</td>\n",
       "      <td>360.0</td>\n",
       "      <td>1.0</td>\n",
       "      <td>Urban</td>\n",
       "      <td>Y</td>\n",
       "    </tr>\n",
       "    <tr>\n",
       "      <th>4</th>\n",
       "      <td>LP001008</td>\n",
       "      <td>Male</td>\n",
       "      <td>No</td>\n",
       "      <td>0</td>\n",
       "      <td>Graduate</td>\n",
       "      <td>No</td>\n",
       "      <td>6000</td>\n",
       "      <td>0.0</td>\n",
       "      <td>141.0</td>\n",
       "      <td>360.0</td>\n",
       "      <td>1.0</td>\n",
       "      <td>Urban</td>\n",
       "      <td>Y</td>\n",
       "    </tr>\n",
       "  </tbody>\n",
       "</table>\n",
       "</div>"
      ],
      "text/plain": [
       "    Loan_ID Gender Married Dependents     Education Self_Employed  \\\n",
       "0  LP001002   Male      No          0      Graduate            No   \n",
       "1  LP001003   Male     Yes          1      Graduate            No   \n",
       "2  LP001005   Male     Yes          0      Graduate           Yes   \n",
       "3  LP001006   Male     Yes          0  Not Graduate            No   \n",
       "4  LP001008   Male      No          0      Graduate            No   \n",
       "\n",
       "   ApplicantIncome  CoapplicantIncome  LoanAmount  Loan_Amount_Term  \\\n",
       "0             5849                0.0         NaN             360.0   \n",
       "1             4583             1508.0       128.0             360.0   \n",
       "2             3000                0.0        66.0             360.0   \n",
       "3             2583             2358.0       120.0             360.0   \n",
       "4             6000                0.0       141.0             360.0   \n",
       "\n",
       "   Credit_History Property_Area Loan_Status  \n",
       "0             1.0         Urban           Y  \n",
       "1             1.0         Rural           N  \n",
       "2             1.0         Urban           Y  \n",
       "3             1.0         Urban           Y  \n",
       "4             1.0         Urban           Y  "
      ]
     },
<<<<<<< HEAD
     "execution_count": 130,
=======
<<<<<<< HEAD
     "execution_count": 4,
=======
     "execution_count": 3,
>>>>>>> 9d24e6af5c8493e00bf16472b648ccc5b9723814
>>>>>>> b64de5ec50052dbe96b00ddeaf4fdafd3476ec53
     "metadata": {},
     "output_type": "execute_result"
    }
   ],
   "source": [
    "loan_df.head()"
   ]
  },
  {
   "cell_type": "code",
<<<<<<< HEAD
   "execution_count": 131,
=======
<<<<<<< HEAD
   "execution_count": 5,
=======
   "execution_count": 4,
>>>>>>> 9d24e6af5c8493e00bf16472b648ccc5b9723814
>>>>>>> b64de5ec50052dbe96b00ddeaf4fdafd3476ec53
   "metadata": {},
   "outputs": [
    {
     "name": "stdout",
     "output_type": "stream",
     "text": [
      "<class 'pandas.core.frame.DataFrame'>\n",
      "Int64Index: 612 entries, 0 to 613\n",
      "Data columns (total 13 columns):\n",
      "Loan_ID              612 non-null object\n",
      "Gender               599 non-null object\n",
      "Married              610 non-null object\n",
      "Dependents           598 non-null object\n",
      "Education            612 non-null object\n",
      "Self_Employed        581 non-null object\n",
      "ApplicantIncome      612 non-null int64\n",
      "CoapplicantIncome    612 non-null float64\n",
      "LoanAmount           592 non-null float64\n",
      "Loan_Amount_Term     598 non-null float64\n",
      "Credit_History       563 non-null float64\n",
      "Property_Area        612 non-null object\n",
      "Loan_Status          612 non-null object\n",
      "dtypes: float64(4), int64(1), object(8)\n",
      "memory usage: 66.9+ KB\n"
     ]
    }
   ],
   "source": [
    "drop_na_rows = loan_df.dropna(thresh = 11)\n",
    "drop_na_rows.info()"
   ]
  },
  {
   "cell_type": "code",
<<<<<<< HEAD
   "execution_count": 132,
=======
<<<<<<< HEAD
   "execution_count": 6,
=======
   "execution_count": 5,
>>>>>>> 9d24e6af5c8493e00bf16472b648ccc5b9723814
>>>>>>> b64de5ec50052dbe96b00ddeaf4fdafd3476ec53
   "metadata": {},
   "outputs": [
    {
     "name": "stderr",
     "output_type": "stream",
     "text": [
      "/Users/linhmai/anaconda3/lib/python3.6/site-packages/pandas/core/frame.py:4290: SettingWithCopyWarning: \n",
      "A value is trying to be set on a copy of a slice from a DataFrame.\n",
      "Try using .loc[row_indexer,col_indexer] = value instead\n",
      "\n",
      "See the caveats in the documentation: http://pandas.pydata.org/pandas-docs/stable/indexing.html#indexing-view-versus-copy\n",
      "  self[col] = expressions.where(mask, this, that)\n"
     ]
    },
    {
     "data": {
      "text/plain": [
       "Loan_ID              LP001761\n",
       "Gender                   Male\n",
       "Married                    No\n",
       "Dependents                  0\n",
       "Education            Graduate\n",
       "Self_Employed             Yes\n",
       "ApplicantIncome          6400\n",
       "CoapplicantIncome           0\n",
       "LoanAmount                200\n",
       "Loan_Amount_Term          360\n",
       "Credit_History              1\n",
       "Property_Area           Rural\n",
       "Loan_Status                 Y\n",
       "Name: 229, dtype: object"
      ]
     },
<<<<<<< HEAD
     "execution_count": 132,
=======
<<<<<<< HEAD
     "execution_count": 6,
=======
     "execution_count": 5,
>>>>>>> 9d24e6af5c8493e00bf16472b648ccc5b9723814
>>>>>>> b64de5ec50052dbe96b00ddeaf4fdafd3476ec53
     "metadata": {},
     "output_type": "execute_result"
    }
   ],
   "source": [
    "object_cols = ['Dependents','Gender', 'Married', 'Education', 'Self_Employed', 'Property_Area', 'Loan_Status']\n",
    "drop_na_rows.update(drop_na_rows[object_cols].fillna(method = 'ffill', axis =0))\n",
    "drop_na_rows.iloc[228]"
   ]
  },
  {
   "cell_type": "code",
<<<<<<< HEAD
   "execution_count": 133,
=======
<<<<<<< HEAD
   "execution_count": 7,
=======
   "execution_count": 6,
>>>>>>> 9d24e6af5c8493e00bf16472b648ccc5b9723814
>>>>>>> b64de5ec50052dbe96b00ddeaf4fdafd3476ec53
   "metadata": {
    "scrolled": true
   },
   "outputs": [
    {
     "name": "stderr",
     "output_type": "stream",
     "text": [
      "/Users/linhmai/anaconda3/lib/python3.6/site-packages/pandas/core/frame.py:4290: SettingWithCopyWarning: \n",
      "A value is trying to be set on a copy of a slice from a DataFrame.\n",
      "Try using .loc[row_indexer,col_indexer] = value instead\n",
      "\n",
      "See the caveats in the documentation: http://pandas.pydata.org/pandas-docs/stable/indexing.html#indexing-view-versus-copy\n",
      "  self[col] = expressions.where(mask, this, that)\n"
     ]
    },
    {
     "data": {
      "text/html": [
       "<div>\n",
       "<style scoped>\n",
       "    .dataframe tbody tr th:only-of-type {\n",
       "        vertical-align: middle;\n",
       "    }\n",
       "\n",
       "    .dataframe tbody tr th {\n",
       "        vertical-align: top;\n",
       "    }\n",
       "\n",
       "    .dataframe thead th {\n",
       "        text-align: right;\n",
       "    }\n",
       "</style>\n",
       "<table border=\"1\" class=\"dataframe\">\n",
       "  <thead>\n",
       "    <tr style=\"text-align: right;\">\n",
       "      <th></th>\n",
       "      <th>Loan_ID</th>\n",
       "      <th>Gender</th>\n",
       "      <th>Married</th>\n",
       "      <th>Dependents</th>\n",
       "      <th>Education</th>\n",
       "      <th>Self_Employed</th>\n",
       "      <th>ApplicantIncome</th>\n",
       "      <th>CoapplicantIncome</th>\n",
       "      <th>LoanAmount</th>\n",
       "      <th>Loan_Amount_Term</th>\n",
       "      <th>Credit_History</th>\n",
       "      <th>Property_Area</th>\n",
       "      <th>Loan_Status</th>\n",
       "    </tr>\n",
       "  </thead>\n",
       "  <tbody>\n",
       "    <tr>\n",
       "      <th>0</th>\n",
       "      <td>LP001002</td>\n",
       "      <td>Male</td>\n",
       "      <td>No</td>\n",
       "      <td>0</td>\n",
       "      <td>Graduate</td>\n",
       "      <td>No</td>\n",
       "      <td>5849</td>\n",
       "      <td>0.0</td>\n",
       "      <td>146.412162</td>\n",
       "      <td>360.000000</td>\n",
       "      <td>1.000000</td>\n",
       "      <td>Urban</td>\n",
       "      <td>Y</td>\n",
       "    </tr>\n",
       "    <tr>\n",
       "      <th>1</th>\n",
       "      <td>LP001003</td>\n",
       "      <td>Male</td>\n",
       "      <td>Yes</td>\n",
       "      <td>1</td>\n",
       "      <td>Graduate</td>\n",
       "      <td>No</td>\n",
       "      <td>4583</td>\n",
       "      <td>1508.0</td>\n",
       "      <td>128.000000</td>\n",
       "      <td>360.000000</td>\n",
       "      <td>1.000000</td>\n",
       "      <td>Rural</td>\n",
       "      <td>N</td>\n",
       "    </tr>\n",
       "    <tr>\n",
       "      <th>2</th>\n",
       "      <td>LP001005</td>\n",
       "      <td>Male</td>\n",
       "      <td>Yes</td>\n",
       "      <td>0</td>\n",
       "      <td>Graduate</td>\n",
       "      <td>Yes</td>\n",
       "      <td>3000</td>\n",
       "      <td>0.0</td>\n",
       "      <td>66.000000</td>\n",
       "      <td>360.000000</td>\n",
       "      <td>1.000000</td>\n",
       "      <td>Urban</td>\n",
       "      <td>Y</td>\n",
       "    </tr>\n",
       "    <tr>\n",
       "      <th>3</th>\n",
       "      <td>LP001006</td>\n",
       "      <td>Male</td>\n",
       "      <td>Yes</td>\n",
       "      <td>0</td>\n",
       "      <td>Not Graduate</td>\n",
       "      <td>No</td>\n",
       "      <td>2583</td>\n",
       "      <td>2358.0</td>\n",
       "      <td>120.000000</td>\n",
       "      <td>360.000000</td>\n",
       "      <td>1.000000</td>\n",
       "      <td>Urban</td>\n",
       "      <td>Y</td>\n",
       "    </tr>\n",
       "    <tr>\n",
       "      <th>4</th>\n",
       "      <td>LP001008</td>\n",
       "      <td>Male</td>\n",
       "      <td>No</td>\n",
       "      <td>0</td>\n",
       "      <td>Graduate</td>\n",
       "      <td>No</td>\n",
       "      <td>6000</td>\n",
       "      <td>0.0</td>\n",
       "      <td>141.000000</td>\n",
       "      <td>360.000000</td>\n",
       "      <td>1.000000</td>\n",
       "      <td>Urban</td>\n",
       "      <td>Y</td>\n",
       "    </tr>\n",
       "    <tr>\n",
       "      <th>5</th>\n",
       "      <td>LP001011</td>\n",
       "      <td>Male</td>\n",
       "      <td>Yes</td>\n",
       "      <td>2</td>\n",
       "      <td>Graduate</td>\n",
       "      <td>Yes</td>\n",
       "      <td>5417</td>\n",
       "      <td>4196.0</td>\n",
       "      <td>267.000000</td>\n",
       "      <td>360.000000</td>\n",
       "      <td>1.000000</td>\n",
       "      <td>Urban</td>\n",
       "      <td>Y</td>\n",
       "    </tr>\n",
       "    <tr>\n",
       "      <th>6</th>\n",
       "      <td>LP001013</td>\n",
       "      <td>Male</td>\n",
       "      <td>Yes</td>\n",
       "      <td>0</td>\n",
       "      <td>Not Graduate</td>\n",
       "      <td>No</td>\n",
       "      <td>2333</td>\n",
       "      <td>1516.0</td>\n",
       "      <td>95.000000</td>\n",
       "      <td>360.000000</td>\n",
       "      <td>1.000000</td>\n",
       "      <td>Urban</td>\n",
       "      <td>Y</td>\n",
       "    </tr>\n",
       "    <tr>\n",
       "      <th>7</th>\n",
       "      <td>LP001014</td>\n",
       "      <td>Male</td>\n",
       "      <td>Yes</td>\n",
       "      <td>3+</td>\n",
       "      <td>Graduate</td>\n",
       "      <td>No</td>\n",
       "      <td>3036</td>\n",
       "      <td>2504.0</td>\n",
       "      <td>158.000000</td>\n",
       "      <td>360.000000</td>\n",
       "      <td>0.000000</td>\n",
       "      <td>Semiurban</td>\n",
       "      <td>N</td>\n",
       "    </tr>\n",
       "    <tr>\n",
       "      <th>8</th>\n",
       "      <td>LP001018</td>\n",
       "      <td>Male</td>\n",
       "      <td>Yes</td>\n",
       "      <td>2</td>\n",
       "      <td>Graduate</td>\n",
       "      <td>No</td>\n",
       "      <td>4006</td>\n",
       "      <td>1526.0</td>\n",
       "      <td>168.000000</td>\n",
       "      <td>360.000000</td>\n",
       "      <td>1.000000</td>\n",
       "      <td>Urban</td>\n",
       "      <td>Y</td>\n",
       "    </tr>\n",
       "    <tr>\n",
       "      <th>9</th>\n",
       "      <td>LP001020</td>\n",
       "      <td>Male</td>\n",
       "      <td>Yes</td>\n",
       "      <td>1</td>\n",
       "      <td>Graduate</td>\n",
       "      <td>No</td>\n",
       "      <td>12841</td>\n",
       "      <td>10968.0</td>\n",
       "      <td>349.000000</td>\n",
       "      <td>360.000000</td>\n",
       "      <td>1.000000</td>\n",
       "      <td>Semiurban</td>\n",
       "      <td>N</td>\n",
       "    </tr>\n",
       "    <tr>\n",
       "      <th>10</th>\n",
       "      <td>LP001024</td>\n",
       "      <td>Male</td>\n",
       "      <td>Yes</td>\n",
       "      <td>2</td>\n",
       "      <td>Graduate</td>\n",
       "      <td>No</td>\n",
       "      <td>3200</td>\n",
       "      <td>700.0</td>\n",
       "      <td>70.000000</td>\n",
       "      <td>360.000000</td>\n",
       "      <td>1.000000</td>\n",
       "      <td>Urban</td>\n",
       "      <td>Y</td>\n",
       "    </tr>\n",
       "    <tr>\n",
       "      <th>11</th>\n",
       "      <td>LP001027</td>\n",
       "      <td>Male</td>\n",
       "      <td>Yes</td>\n",
       "      <td>2</td>\n",
       "      <td>Graduate</td>\n",
       "      <td>No</td>\n",
       "      <td>2500</td>\n",
       "      <td>1840.0</td>\n",
       "      <td>109.000000</td>\n",
       "      <td>360.000000</td>\n",
       "      <td>1.000000</td>\n",
       "      <td>Urban</td>\n",
       "      <td>Y</td>\n",
       "    </tr>\n",
       "    <tr>\n",
       "      <th>12</th>\n",
       "      <td>LP001028</td>\n",
       "      <td>Male</td>\n",
       "      <td>Yes</td>\n",
       "      <td>2</td>\n",
       "      <td>Graduate</td>\n",
       "      <td>No</td>\n",
       "      <td>3073</td>\n",
       "      <td>8106.0</td>\n",
       "      <td>200.000000</td>\n",
       "      <td>360.000000</td>\n",
       "      <td>1.000000</td>\n",
       "      <td>Urban</td>\n",
       "      <td>Y</td>\n",
       "    </tr>\n",
       "    <tr>\n",
       "      <th>13</th>\n",
       "      <td>LP001029</td>\n",
       "      <td>Male</td>\n",
       "      <td>No</td>\n",
       "      <td>0</td>\n",
       "      <td>Graduate</td>\n",
       "      <td>No</td>\n",
       "      <td>1853</td>\n",
       "      <td>2840.0</td>\n",
       "      <td>114.000000</td>\n",
       "      <td>360.000000</td>\n",
       "      <td>1.000000</td>\n",
       "      <td>Rural</td>\n",
       "      <td>N</td>\n",
       "    </tr>\n",
       "    <tr>\n",
       "      <th>14</th>\n",
       "      <td>LP001030</td>\n",
       "      <td>Male</td>\n",
       "      <td>Yes</td>\n",
       "      <td>2</td>\n",
       "      <td>Graduate</td>\n",
       "      <td>No</td>\n",
       "      <td>1299</td>\n",
       "      <td>1086.0</td>\n",
       "      <td>17.000000</td>\n",
       "      <td>120.000000</td>\n",
       "      <td>1.000000</td>\n",
       "      <td>Urban</td>\n",
       "      <td>Y</td>\n",
       "    </tr>\n",
       "    <tr>\n",
       "      <th>15</th>\n",
       "      <td>LP001032</td>\n",
       "      <td>Male</td>\n",
       "      <td>No</td>\n",
       "      <td>0</td>\n",
       "      <td>Graduate</td>\n",
       "      <td>No</td>\n",
       "      <td>4950</td>\n",
       "      <td>0.0</td>\n",
       "      <td>125.000000</td>\n",
       "      <td>360.000000</td>\n",
       "      <td>1.000000</td>\n",
       "      <td>Urban</td>\n",
       "      <td>Y</td>\n",
       "    </tr>\n",
       "    <tr>\n",
       "      <th>16</th>\n",
       "      <td>LP001034</td>\n",
       "      <td>Male</td>\n",
       "      <td>No</td>\n",
       "      <td>1</td>\n",
       "      <td>Not Graduate</td>\n",
       "      <td>No</td>\n",
       "      <td>3596</td>\n",
       "      <td>0.0</td>\n",
       "      <td>100.000000</td>\n",
       "      <td>240.000000</td>\n",
       "      <td>0.841918</td>\n",
       "      <td>Urban</td>\n",
       "      <td>Y</td>\n",
       "    </tr>\n",
       "    <tr>\n",
       "      <th>17</th>\n",
       "      <td>LP001036</td>\n",
       "      <td>Female</td>\n",
       "      <td>No</td>\n",
       "      <td>0</td>\n",
       "      <td>Graduate</td>\n",
       "      <td>No</td>\n",
       "      <td>3510</td>\n",
       "      <td>0.0</td>\n",
       "      <td>76.000000</td>\n",
       "      <td>360.000000</td>\n",
       "      <td>0.000000</td>\n",
       "      <td>Urban</td>\n",
       "      <td>N</td>\n",
       "    </tr>\n",
       "    <tr>\n",
       "      <th>18</th>\n",
       "      <td>LP001038</td>\n",
       "      <td>Male</td>\n",
       "      <td>Yes</td>\n",
       "      <td>0</td>\n",
       "      <td>Not Graduate</td>\n",
       "      <td>No</td>\n",
       "      <td>4887</td>\n",
       "      <td>0.0</td>\n",
       "      <td>133.000000</td>\n",
       "      <td>360.000000</td>\n",
       "      <td>1.000000</td>\n",
       "      <td>Rural</td>\n",
       "      <td>N</td>\n",
       "    </tr>\n",
       "    <tr>\n",
       "      <th>19</th>\n",
       "      <td>LP001041</td>\n",
       "      <td>Male</td>\n",
       "      <td>Yes</td>\n",
       "      <td>0</td>\n",
       "      <td>Graduate</td>\n",
       "      <td>No</td>\n",
       "      <td>2600</td>\n",
       "      <td>3500.0</td>\n",
       "      <td>115.000000</td>\n",
       "      <td>342.140468</td>\n",
       "      <td>1.000000</td>\n",
       "      <td>Urban</td>\n",
       "      <td>Y</td>\n",
       "    </tr>\n",
       "  </tbody>\n",
       "</table>\n",
       "</div>"
      ],
      "text/plain": [
       "     Loan_ID  Gender Married Dependents     Education Self_Employed  \\\n",
       "0   LP001002    Male      No          0      Graduate            No   \n",
       "1   LP001003    Male     Yes          1      Graduate            No   \n",
       "2   LP001005    Male     Yes          0      Graduate           Yes   \n",
       "3   LP001006    Male     Yes          0  Not Graduate            No   \n",
       "4   LP001008    Male      No          0      Graduate            No   \n",
       "5   LP001011    Male     Yes          2      Graduate           Yes   \n",
       "6   LP001013    Male     Yes          0  Not Graduate            No   \n",
       "7   LP001014    Male     Yes         3+      Graduate            No   \n",
       "8   LP001018    Male     Yes          2      Graduate            No   \n",
       "9   LP001020    Male     Yes          1      Graduate            No   \n",
       "10  LP001024    Male     Yes          2      Graduate            No   \n",
       "11  LP001027    Male     Yes          2      Graduate            No   \n",
       "12  LP001028    Male     Yes          2      Graduate            No   \n",
       "13  LP001029    Male      No          0      Graduate            No   \n",
       "14  LP001030    Male     Yes          2      Graduate            No   \n",
       "15  LP001032    Male      No          0      Graduate            No   \n",
       "16  LP001034    Male      No          1  Not Graduate            No   \n",
       "17  LP001036  Female      No          0      Graduate            No   \n",
       "18  LP001038    Male     Yes          0  Not Graduate            No   \n",
       "19  LP001041    Male     Yes          0      Graduate            No   \n",
       "\n",
       "    ApplicantIncome  CoapplicantIncome  LoanAmount  Loan_Amount_Term  \\\n",
       "0              5849                0.0  146.412162        360.000000   \n",
       "1              4583             1508.0  128.000000        360.000000   \n",
       "2              3000                0.0   66.000000        360.000000   \n",
       "3              2583             2358.0  120.000000        360.000000   \n",
       "4              6000                0.0  141.000000        360.000000   \n",
       "5              5417             4196.0  267.000000        360.000000   \n",
       "6              2333             1516.0   95.000000        360.000000   \n",
       "7              3036             2504.0  158.000000        360.000000   \n",
       "8              4006             1526.0  168.000000        360.000000   \n",
       "9             12841            10968.0  349.000000        360.000000   \n",
       "10             3200              700.0   70.000000        360.000000   \n",
       "11             2500             1840.0  109.000000        360.000000   \n",
       "12             3073             8106.0  200.000000        360.000000   \n",
       "13             1853             2840.0  114.000000        360.000000   \n",
       "14             1299             1086.0   17.000000        120.000000   \n",
       "15             4950                0.0  125.000000        360.000000   \n",
       "16             3596                0.0  100.000000        240.000000   \n",
       "17             3510                0.0   76.000000        360.000000   \n",
       "18             4887                0.0  133.000000        360.000000   \n",
       "19             2600             3500.0  115.000000        342.140468   \n",
       "\n",
       "    Credit_History Property_Area Loan_Status  \n",
       "0         1.000000         Urban           Y  \n",
       "1         1.000000         Rural           N  \n",
       "2         1.000000         Urban           Y  \n",
       "3         1.000000         Urban           Y  \n",
       "4         1.000000         Urban           Y  \n",
       "5         1.000000         Urban           Y  \n",
       "6         1.000000         Urban           Y  \n",
       "7         0.000000     Semiurban           N  \n",
       "8         1.000000         Urban           Y  \n",
       "9         1.000000     Semiurban           N  \n",
       "10        1.000000         Urban           Y  \n",
       "11        1.000000         Urban           Y  \n",
       "12        1.000000         Urban           Y  \n",
       "13        1.000000         Rural           N  \n",
       "14        1.000000         Urban           Y  \n",
       "15        1.000000         Urban           Y  \n",
       "16        0.841918         Urban           Y  \n",
       "17        0.000000         Urban           N  \n",
       "18        1.000000         Rural           N  \n",
       "19        1.000000         Urban           Y  "
      ]
     },
<<<<<<< HEAD
     "execution_count": 133,
=======
<<<<<<< HEAD
     "execution_count": 7,
=======
     "execution_count": 6,
>>>>>>> 9d24e6af5c8493e00bf16472b648ccc5b9723814
>>>>>>> b64de5ec50052dbe96b00ddeaf4fdafd3476ec53
     "metadata": {},
     "output_type": "execute_result"
    }
   ],
   "source": [
    "num_cols = ['ApplicantIncome', 'CoapplicantIncome', 'LoanAmount', 'Loan_Amount_Term', 'Credit_History']\n",
    "drop_na_rows.update(drop_na_rows[num_cols].fillna(drop_na_rows[num_cols].mean()))\n",
    "drop_na_rows.head(20)"
   ]
  },
  {
   "cell_type": "code",
<<<<<<< HEAD
   "execution_count": 134,
=======
<<<<<<< HEAD
   "execution_count": 8,
=======
   "execution_count": 7,
>>>>>>> 9d24e6af5c8493e00bf16472b648ccc5b9723814
>>>>>>> b64de5ec50052dbe96b00ddeaf4fdafd3476ec53
   "metadata": {},
   "outputs": [
    {
     "data": {
      "text/plain": [
       "Loan_ID              0\n",
       "Gender               0\n",
       "Married              0\n",
       "Dependents           0\n",
       "Education            0\n",
       "Self_Employed        0\n",
       "ApplicantIncome      0\n",
       "CoapplicantIncome    0\n",
       "LoanAmount           0\n",
       "Loan_Amount_Term     0\n",
       "Credit_History       0\n",
       "Property_Area        0\n",
       "Loan_Status          0\n",
       "dtype: int64"
      ]
     },
<<<<<<< HEAD
     "execution_count": 134,
=======
<<<<<<< HEAD
     "execution_count": 8,
=======
     "execution_count": 7,
>>>>>>> 9d24e6af5c8493e00bf16472b648ccc5b9723814
>>>>>>> b64de5ec50052dbe96b00ddeaf4fdafd3476ec53
     "metadata": {},
     "output_type": "execute_result"
    }
   ],
   "source": [
    "drop_na_rows.isnull().sum()"
   ]
  },
  {
   "cell_type": "code",
<<<<<<< HEAD
   "execution_count": 135,
=======
<<<<<<< HEAD
   "execution_count": 16,
=======
   "execution_count": 106,
>>>>>>> 9d24e6af5c8493e00bf16472b648ccc5b9723814
>>>>>>> b64de5ec50052dbe96b00ddeaf4fdafd3476ec53
   "metadata": {},
   "outputs": [
    {
     "data": {
      "text/plain": [
<<<<<<< HEAD
       "Text(0.5,1,\"Education vs Applicant's Income\")"
      ]
     },
     "execution_count": 135,
=======
<<<<<<< HEAD
       "Text(0.5,1,\"Education vs applicant's income\")"
      ]
     },
     "execution_count": 16,
=======
       "<matplotlib.axes._subplots.AxesSubplot at 0x1a1feaca20>"
      ]
     },
     "execution_count": 106,
>>>>>>> 9d24e6af5c8493e00bf16472b648ccc5b9723814
>>>>>>> b64de5ec50052dbe96b00ddeaf4fdafd3476ec53
     "metadata": {},
     "output_type": "execute_result"
    },
    {
     "data": {
<<<<<<< HEAD
      "image/png": "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\n",
      "text/plain": [
       "<matplotlib.figure.Figure at 0x1a216dc8d0>"
=======
<<<<<<< HEAD
      "image/png": "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\n",
      "text/plain": [
       "<matplotlib.figure.Figure at 0x179e6c33f28>"
=======
      "image/png": "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\n",
      "text/plain": [
       "<matplotlib.figure.Figure at 0x1a1feac358>"
>>>>>>> 9d24e6af5c8493e00bf16472b648ccc5b9723814
>>>>>>> b64de5ec50052dbe96b00ddeaf4fdafd3476ec53
      ]
     },
     "metadata": {},
     "output_type": "display_data"
    }
   ],
   "source": [
<<<<<<< HEAD
    "plt.scatter(drop_na_rows['Education'], drop_na_rows['ApplicantIncome'])\n",
    "plt.xlabel('Education', fontsize = 15)\n",
    "plt.ylabel(\"Applicant's Income\", fontsize = 15)\n",
    "plt.title(\"Education vs Applicant's Income\", fontsize = 15)"
=======
<<<<<<< HEAD
    "plt.scatter(drop_na_rows['Education'], drop_na_rows['ApplicantIncome'])\n",
    "plt.xlabel('Education Status', fontsize = 15)\n",
    "plt.ylabel(\"Applicant's income\", fontsize =15)\n",
    "plt.title(\"Education vs applicant's income\", fontsize =15)\n"
=======
    "new2 = drop_na_rows[['Education','ApplicantIncome']].copy()\n",
    "new2.sort_values('Education').plot.bar()\n"
>>>>>>> 9d24e6af5c8493e00bf16472b648ccc5b9723814
>>>>>>> b64de5ec50052dbe96b00ddeaf4fdafd3476ec53
   ]
  },
  {
   "cell_type": "code",
   "execution_count": 136,
   "metadata": {},
   "outputs": [
    {
     "data": {
      "text/plain": [
       "Text(0.5,1,'Loan Status vs Property Area')"
      ]
     },
     "execution_count": 136,
     "metadata": {},
     "output_type": "execute_result"
    },
    {
     "data": {
      "image/png": "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\n",
      "text/plain": [
       "<matplotlib.figure.Figure at 0x1a20bf15c0>"
      ]
     },
     "metadata": {},
     "output_type": "display_data"
    }
   ],
   "source": [
    "new = drop_na_rows[['Loan_Status','Property_Area']].copy()\n",
    "grouped = new.groupby(['Loan_Status','Property_Area'])\n",
    "grouped.size().unstack(fill_value=0).plot.bar()\n",
    "plt.xlabel(\"Loan Status\", fontsize = 15)\n",
    "plt.ylabel(\"People\", fontsize = 15)\n",
    "plt.title(\"Loan Status vs Property Area\")"
   ]
  },
  {
   "cell_type": "code",
   "execution_count": 137,
   "metadata": {},
   "outputs": [
    {
     "name": "stderr",
     "output_type": "stream",
     "text": [
      "/Users/linhmai/anaconda3/lib/python3.6/site-packages/ipykernel_launcher.py:3: SettingWithCopyWarning: \n",
      "A value is trying to be set on a copy of a slice from a DataFrame.\n",
      "Try using .loc[row_indexer,col_indexer] = value instead\n",
      "\n",
      "See the caveats in the documentation: http://pandas.pydata.org/pandas-docs/stable/indexing.html#indexing-view-versus-copy\n",
      "  This is separate from the ipykernel package so we can avoid doing imports until\n"
     ]
    }
   ],
   "source": [
    "bins = [0,2000,20000,50000,10000000]\n",
    "groups_name = ['low','medium','high','rich']\n",
    "drop_na_rows['IncomeGroup'] = pd.cut(drop_na_rows['CoapplicantIncome'], bins, include_lowest = True, labels = groups_name)\n"
   ]
  },
  {
   "cell_type": "code",
   "execution_count": 138,
   "metadata": {},
   "outputs": [
    {
     "data": {
      "text/plain": [
       "Text(0.5,1,'Loan Status vs Income Group')"
      ]
     },
     "execution_count": 138,
     "metadata": {},
     "output_type": "execute_result"
    },
    {
     "data": {
      "image/png": "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\n",
      "text/plain": [
       "<matplotlib.figure.Figure at 0x1a21684e10>"
      ]
     },
     "metadata": {},
     "output_type": "display_data"
    }
   ],
   "source": [
    "new = drop_na_rows[['Loan_Status','IncomeGroup']].copy()\n",
    "grouped1 = new.groupby(['Loan_Status','IncomeGroup'])\n",
    "grouped1.size().unstack(fill_value=0).plot.bar()\n",
    "plt.xlabel(\"Loan Status\", fontsize = 15)\n",
    "plt.ylabel(\"People\", fontsize = 15)\n",
    "plt.title(\"Loan Status vs Income Group\")"
   ]
  },
  {
   "cell_type": "code",
   "execution_count": 139,
   "metadata": {},
   "outputs": [
    {
     "name": "stderr",
     "output_type": "stream",
     "text": [
      "/Users/linhmai/anaconda3/lib/python3.6/site-packages/ipykernel_launcher.py:2: SettingWithCopyWarning: \n",
      "A value is trying to be set on a copy of a slice from a DataFrame.\n",
      "Try using .loc[row_indexer,col_indexer] = value instead\n",
      "\n",
      "See the caveats in the documentation: http://pandas.pydata.org/pandas-docs/stable/indexing.html#indexing-view-versus-copy\n",
      "  \n"
     ]
    }
   ],
   "source": [
    "co_bins = [0,2000,10000,20000,10000000]\n",
    "drop_na_rows['CoIncomeGroup'] = pd.cut(drop_na_rows['CoapplicantIncome'], co_bins, include_lowest = True, labels = groups_name)"
   ]
  },
  {
   "cell_type": "code",
   "execution_count": 140,
   "metadata": {},
   "outputs": [
    {
     "data": {
      "text/plain": [
       "Text(0.5,1,'Loan Status vs Coapplicant Income Group')"
      ]
     },
     "execution_count": 140,
     "metadata": {},
     "output_type": "execute_result"
    },
    {
     "data": {
      "image/png": "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\n",
      "text/plain": [
       "<matplotlib.figure.Figure at 0x1a217680b8>"
      ]
     },
     "metadata": {},
     "output_type": "display_data"
    }
   ],
   "source": [
    "new = drop_na_rows[['Loan_Status','CoIncomeGroup']].copy()\n",
    "grouped2 = new.groupby(['Loan_Status','CoIncomeGroup'])\n",
    "grouped2.size().unstack(fill_value=0).plot.bar()\n",
    "plt.xlabel(\"Loan Status\", fontsize = 15)\n",
    "plt.ylabel(\"People\", fontsize = 15)\n",
    "plt.title(\"Loan Status vs Coapplicant Income Group\")"
   ]
  },
  {
   "cell_type": "code",
   "execution_count": 141,
   "metadata": {},
   "outputs": [],
   "source": [
    "import seaborn as sns"
   ]
  },
  {
   "cell_type": "code",
   "execution_count": 142,
   "metadata": {},
   "outputs": [
    {
     "data": {
      "image/png": "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\n",
      "text/plain": [
       "<matplotlib.figure.Figure at 0x1a21b50ac8>"
      ]
     },
     "metadata": {},
     "output_type": "display_data"
    }
   ],
   "source": [
    "g = sns.FacetGrid(drop_na_rows, col = 'Education', row = 'Married')\n",
    "g = g.map(plt.hist, \"Loan_Status\")"
   ]
  },
  {
   "cell_type": "code",
   "execution_count": 143,
   "metadata": {},
   "outputs": [
    {
     "data": {
      "text/plain": [
       "array(['Male', 'Female'], dtype=object)"
      ]
     },
     "execution_count": 143,
     "metadata": {},
     "output_type": "execute_result"
    }
   ],
   "source": [
    "drop_na_rows['Gender'].unique()"
   ]
  },
  {
   "cell_type": "code",
   "execution_count": 144,
   "metadata": {},
   "outputs": [
    {
     "name": "stderr",
     "output_type": "stream",
     "text": [
      "/Users/linhmai/anaconda3/lib/python3.6/site-packages/pandas/core/generic.py:4619: SettingWithCopyWarning: \n",
      "A value is trying to be set on a copy of a slice from a DataFrame\n",
      "\n",
      "See the caveats in the documentation: http://pandas.pydata.org/pandas-docs/stable/indexing.html#indexing-view-versus-copy\n",
      "  self._update_inplace(new_data)\n"
     ]
    }
   ],
   "source": [
    "drop_na_rows['Gender'].replace({'Male' : 0, 'Female' : 1}, inplace = True)"
   ]
  },
  {
   "cell_type": "code",
   "execution_count": 145,
   "metadata": {},
   "outputs": [
    {
     "data": {
      "text/plain": [
       "array(['No', 'Yes'], dtype=object)"
      ]
     },
     "execution_count": 145,
     "metadata": {},
     "output_type": "execute_result"
    }
   ],
   "source": [
    "drop_na_rows['Married'].unique()"
   ]
  },
  {
   "cell_type": "code",
   "execution_count": 146,
   "metadata": {},
   "outputs": [
    {
     "name": "stderr",
     "output_type": "stream",
     "text": [
      "/Users/linhmai/anaconda3/lib/python3.6/site-packages/pandas/core/generic.py:4619: SettingWithCopyWarning: \n",
      "A value is trying to be set on a copy of a slice from a DataFrame\n",
      "\n",
      "See the caveats in the documentation: http://pandas.pydata.org/pandas-docs/stable/indexing.html#indexing-view-versus-copy\n",
      "  self._update_inplace(new_data)\n"
     ]
    }
   ],
   "source": [
    "drop_na_rows['Married'].replace({'No' : 0, 'Yes' : 1}, inplace = True)"
   ]
  },
  {
   "cell_type": "code",
   "execution_count": 147,
   "metadata": {},
   "outputs": [
    {
     "data": {
      "text/plain": [
       "array(['0', '1', '2', '3+'], dtype=object)"
      ]
     },
     "execution_count": 147,
     "metadata": {},
     "output_type": "execute_result"
    }
   ],
   "source": [
    "drop_na_rows['Dependents'].unique()"
   ]
  },
  {
   "cell_type": "code",
   "execution_count": 148,
   "metadata": {},
   "outputs": [
    {
     "name": "stderr",
     "output_type": "stream",
     "text": [
      "/Users/linhmai/anaconda3/lib/python3.6/site-packages/pandas/core/generic.py:4619: SettingWithCopyWarning: \n",
      "A value is trying to be set on a copy of a slice from a DataFrame\n",
      "\n",
      "See the caveats in the documentation: http://pandas.pydata.org/pandas-docs/stable/indexing.html#indexing-view-versus-copy\n",
      "  self._update_inplace(new_data)\n"
     ]
    }
   ],
   "source": [
    "drop_na_rows['Dependents'].replace({'0':0, '1' : 1, '2' : 2, '3+' : 3}, inplace = True)"
   ]
  },
  {
   "cell_type": "code",
   "execution_count": 149,
   "metadata": {},
   "outputs": [
    {
     "data": {
      "text/plain": [
       "array(['Graduate', 'Not Graduate'], dtype=object)"
      ]
     },
     "execution_count": 149,
     "metadata": {},
     "output_type": "execute_result"
    }
   ],
   "source": [
    "drop_na_rows['Education'].unique()"
   ]
  },
  {
   "cell_type": "code",
   "execution_count": 150,
   "metadata": {},
   "outputs": [
    {
     "name": "stderr",
     "output_type": "stream",
     "text": [
      "/Users/linhmai/anaconda3/lib/python3.6/site-packages/pandas/core/generic.py:4619: SettingWithCopyWarning: \n",
      "A value is trying to be set on a copy of a slice from a DataFrame\n",
      "\n",
      "See the caveats in the documentation: http://pandas.pydata.org/pandas-docs/stable/indexing.html#indexing-view-versus-copy\n",
      "  self._update_inplace(new_data)\n"
     ]
    }
   ],
   "source": [
    "drop_na_rows['Education'].replace({'Not Graduate' : 0, 'Graduate' : 1}, inplace = True)"
   ]
  },
  {
   "cell_type": "code",
   "execution_count": 151,
   "metadata": {},
   "outputs": [
    {
     "data": {
      "text/plain": [
       "array(['No', 'Yes'], dtype=object)"
      ]
     },
     "execution_count": 151,
     "metadata": {},
     "output_type": "execute_result"
    }
   ],
   "source": [
    "drop_na_rows['Self_Employed'].unique()"
   ]
  },
  {
   "cell_type": "code",
   "execution_count": 152,
   "metadata": {},
   "outputs": [
    {
     "name": "stderr",
     "output_type": "stream",
     "text": [
      "/Users/linhmai/anaconda3/lib/python3.6/site-packages/pandas/core/generic.py:4619: SettingWithCopyWarning: \n",
      "A value is trying to be set on a copy of a slice from a DataFrame\n",
      "\n",
      "See the caveats in the documentation: http://pandas.pydata.org/pandas-docs/stable/indexing.html#indexing-view-versus-copy\n",
      "  self._update_inplace(new_data)\n"
     ]
    }
   ],
   "source": [
    "drop_na_rows['Self_Employed'].replace({'No' : 0, 'Yes' : 1}, inplace = True)"
   ]
  },
  {
   "cell_type": "code",
   "execution_count": 153,
   "metadata": {},
   "outputs": [
    {
     "data": {
      "text/plain": [
       "array(['Urban', 'Rural', 'Semiurban'], dtype=object)"
      ]
     },
     "execution_count": 153,
     "metadata": {},
     "output_type": "execute_result"
    }
   ],
   "source": [
    "drop_na_rows['Property_Area'].unique()"
   ]
  },
  {
   "cell_type": "code",
   "execution_count": 154,
   "metadata": {},
   "outputs": [
    {
     "name": "stderr",
     "output_type": "stream",
     "text": [
      "/Users/linhmai/anaconda3/lib/python3.6/site-packages/pandas/core/generic.py:4619: SettingWithCopyWarning: \n",
      "A value is trying to be set on a copy of a slice from a DataFrame\n",
      "\n",
      "See the caveats in the documentation: http://pandas.pydata.org/pandas-docs/stable/indexing.html#indexing-view-versus-copy\n",
      "  self._update_inplace(new_data)\n"
     ]
    }
   ],
   "source": [
    "drop_na_rows['Property_Area'].replace({'Urban' : 1, 'Rural' : 2, 'Semiurban' : 3}, inplace = True)"
   ]
  },
  {
   "cell_type": "code",
   "execution_count": 155,
   "metadata": {},
   "outputs": [
    {
     "data": {
      "text/plain": [
       "array(['Y', 'N'], dtype=object)"
      ]
     },
     "execution_count": 155,
     "metadata": {},
     "output_type": "execute_result"
    }
   ],
   "source": [
    "drop_na_rows['Loan_Status'].unique()"
   ]
  },
  {
   "cell_type": "code",
   "execution_count": 156,
   "metadata": {},
   "outputs": [
    {
     "name": "stderr",
     "output_type": "stream",
     "text": [
      "/Users/linhmai/anaconda3/lib/python3.6/site-packages/pandas/core/generic.py:4619: SettingWithCopyWarning: \n",
      "A value is trying to be set on a copy of a slice from a DataFrame\n",
      "\n",
      "See the caveats in the documentation: http://pandas.pydata.org/pandas-docs/stable/indexing.html#indexing-view-versus-copy\n",
      "  self._update_inplace(new_data)\n"
     ]
    }
   ],
   "source": [
    "drop_na_rows['Loan_Status'].replace({'N' : 0, 'Y' : 1}, inplace = True)"
   ]
  },
  {
   "cell_type": "code",
   "execution_count": 157,
   "metadata": {},
   "outputs": [
    {
     "data": {
      "text/html": [
       "<div>\n",
       "<style scoped>\n",
       "    .dataframe tbody tr th:only-of-type {\n",
       "        vertical-align: middle;\n",
       "    }\n",
       "\n",
       "    .dataframe tbody tr th {\n",
       "        vertical-align: top;\n",
       "    }\n",
       "\n",
       "    .dataframe thead th {\n",
       "        text-align: right;\n",
       "    }\n",
       "</style>\n",
       "<table border=\"1\" class=\"dataframe\">\n",
       "  <thead>\n",
       "    <tr style=\"text-align: right;\">\n",
       "      <th></th>\n",
       "      <th>Loan_ID</th>\n",
       "      <th>Gender</th>\n",
       "      <th>Married</th>\n",
       "      <th>Dependents</th>\n",
       "      <th>Education</th>\n",
       "      <th>Self_Employed</th>\n",
       "      <th>ApplicantIncome</th>\n",
       "      <th>CoapplicantIncome</th>\n",
       "      <th>LoanAmount</th>\n",
       "      <th>Loan_Amount_Term</th>\n",
       "      <th>Credit_History</th>\n",
       "      <th>Property_Area</th>\n",
       "      <th>Loan_Status</th>\n",
       "      <th>IncomeGroup</th>\n",
       "      <th>CoIncomeGroup</th>\n",
       "    </tr>\n",
       "  </thead>\n",
       "  <tbody>\n",
       "    <tr>\n",
       "      <th>0</th>\n",
       "      <td>LP001002</td>\n",
       "      <td>0</td>\n",
       "      <td>0</td>\n",
       "      <td>0</td>\n",
       "      <td>1</td>\n",
       "      <td>0</td>\n",
       "      <td>5849</td>\n",
       "      <td>0.0</td>\n",
       "      <td>146.412162</td>\n",
       "      <td>360.0</td>\n",
       "      <td>1.000000</td>\n",
       "      <td>1</td>\n",
       "      <td>1</td>\n",
       "      <td>low</td>\n",
       "      <td>low</td>\n",
       "    </tr>\n",
       "    <tr>\n",
       "      <th>1</th>\n",
       "      <td>LP001003</td>\n",
       "      <td>0</td>\n",
       "      <td>1</td>\n",
       "      <td>1</td>\n",
       "      <td>1</td>\n",
       "      <td>0</td>\n",
       "      <td>4583</td>\n",
       "      <td>1508.0</td>\n",
       "      <td>128.000000</td>\n",
       "      <td>360.0</td>\n",
       "      <td>1.000000</td>\n",
       "      <td>2</td>\n",
       "      <td>0</td>\n",
       "      <td>low</td>\n",
       "      <td>low</td>\n",
       "    </tr>\n",
       "    <tr>\n",
       "      <th>2</th>\n",
       "      <td>LP001005</td>\n",
       "      <td>0</td>\n",
       "      <td>1</td>\n",
       "      <td>0</td>\n",
       "      <td>1</td>\n",
       "      <td>1</td>\n",
       "      <td>3000</td>\n",
       "      <td>0.0</td>\n",
       "      <td>66.000000</td>\n",
       "      <td>360.0</td>\n",
       "      <td>1.000000</td>\n",
       "      <td>1</td>\n",
       "      <td>1</td>\n",
       "      <td>low</td>\n",
       "      <td>low</td>\n",
       "    </tr>\n",
       "    <tr>\n",
       "      <th>3</th>\n",
       "      <td>LP001006</td>\n",
       "      <td>0</td>\n",
       "      <td>1</td>\n",
       "      <td>0</td>\n",
       "      <td>0</td>\n",
       "      <td>0</td>\n",
       "      <td>2583</td>\n",
       "      <td>2358.0</td>\n",
       "      <td>120.000000</td>\n",
       "      <td>360.0</td>\n",
       "      <td>1.000000</td>\n",
       "      <td>1</td>\n",
       "      <td>1</td>\n",
       "      <td>medium</td>\n",
       "      <td>medium</td>\n",
       "    </tr>\n",
       "    <tr>\n",
       "      <th>4</th>\n",
       "      <td>LP001008</td>\n",
       "      <td>0</td>\n",
       "      <td>0</td>\n",
       "      <td>0</td>\n",
       "      <td>1</td>\n",
       "      <td>0</td>\n",
       "      <td>6000</td>\n",
       "      <td>0.0</td>\n",
       "      <td>141.000000</td>\n",
       "      <td>360.0</td>\n",
       "      <td>1.000000</td>\n",
       "      <td>1</td>\n",
       "      <td>1</td>\n",
       "      <td>low</td>\n",
       "      <td>low</td>\n",
       "    </tr>\n",
       "    <tr>\n",
       "      <th>5</th>\n",
       "      <td>LP001011</td>\n",
       "      <td>0</td>\n",
       "      <td>1</td>\n",
       "      <td>2</td>\n",
       "      <td>1</td>\n",
       "      <td>1</td>\n",
       "      <td>5417</td>\n",
       "      <td>4196.0</td>\n",
       "      <td>267.000000</td>\n",
       "      <td>360.0</td>\n",
       "      <td>1.000000</td>\n",
       "      <td>1</td>\n",
       "      <td>1</td>\n",
       "      <td>medium</td>\n",
       "      <td>medium</td>\n",
       "    </tr>\n",
       "    <tr>\n",
       "      <th>6</th>\n",
       "      <td>LP001013</td>\n",
       "      <td>0</td>\n",
       "      <td>1</td>\n",
       "      <td>0</td>\n",
       "      <td>0</td>\n",
       "      <td>0</td>\n",
       "      <td>2333</td>\n",
       "      <td>1516.0</td>\n",
       "      <td>95.000000</td>\n",
       "      <td>360.0</td>\n",
       "      <td>1.000000</td>\n",
       "      <td>1</td>\n",
       "      <td>1</td>\n",
       "      <td>low</td>\n",
       "      <td>low</td>\n",
       "    </tr>\n",
       "    <tr>\n",
       "      <th>7</th>\n",
       "      <td>LP001014</td>\n",
       "      <td>0</td>\n",
       "      <td>1</td>\n",
       "      <td>3</td>\n",
       "      <td>1</td>\n",
       "      <td>0</td>\n",
       "      <td>3036</td>\n",
       "      <td>2504.0</td>\n",
       "      <td>158.000000</td>\n",
       "      <td>360.0</td>\n",
       "      <td>0.000000</td>\n",
       "      <td>3</td>\n",
       "      <td>0</td>\n",
       "      <td>medium</td>\n",
       "      <td>medium</td>\n",
       "    </tr>\n",
       "    <tr>\n",
       "      <th>8</th>\n",
       "      <td>LP001018</td>\n",
       "      <td>0</td>\n",
       "      <td>1</td>\n",
       "      <td>2</td>\n",
       "      <td>1</td>\n",
       "      <td>0</td>\n",
       "      <td>4006</td>\n",
       "      <td>1526.0</td>\n",
       "      <td>168.000000</td>\n",
       "      <td>360.0</td>\n",
       "      <td>1.000000</td>\n",
       "      <td>1</td>\n",
       "      <td>1</td>\n",
       "      <td>low</td>\n",
       "      <td>low</td>\n",
       "    </tr>\n",
       "    <tr>\n",
       "      <th>9</th>\n",
       "      <td>LP001020</td>\n",
       "      <td>0</td>\n",
       "      <td>1</td>\n",
       "      <td>1</td>\n",
       "      <td>1</td>\n",
       "      <td>0</td>\n",
       "      <td>12841</td>\n",
       "      <td>10968.0</td>\n",
       "      <td>349.000000</td>\n",
       "      <td>360.0</td>\n",
       "      <td>1.000000</td>\n",
       "      <td>3</td>\n",
       "      <td>0</td>\n",
       "      <td>medium</td>\n",
       "      <td>high</td>\n",
       "    </tr>\n",
       "    <tr>\n",
       "      <th>...</th>\n",
       "      <td>...</td>\n",
       "      <td>...</td>\n",
       "      <td>...</td>\n",
       "      <td>...</td>\n",
       "      <td>...</td>\n",
       "      <td>...</td>\n",
       "      <td>...</td>\n",
       "      <td>...</td>\n",
       "      <td>...</td>\n",
       "      <td>...</td>\n",
       "      <td>...</td>\n",
       "      <td>...</td>\n",
       "      <td>...</td>\n",
       "      <td>...</td>\n",
       "      <td>...</td>\n",
       "    </tr>\n",
       "    <tr>\n",
       "      <th>20</th>\n",
       "      <td>LP001043</td>\n",
       "      <td>0</td>\n",
       "      <td>1</td>\n",
       "      <td>0</td>\n",
       "      <td>0</td>\n",
       "      <td>0</td>\n",
       "      <td>7660</td>\n",
       "      <td>0.0</td>\n",
       "      <td>104.000000</td>\n",
       "      <td>360.0</td>\n",
       "      <td>0.000000</td>\n",
       "      <td>1</td>\n",
       "      <td>0</td>\n",
       "      <td>low</td>\n",
       "      <td>low</td>\n",
       "    </tr>\n",
       "    <tr>\n",
       "      <th>21</th>\n",
       "      <td>LP001046</td>\n",
       "      <td>0</td>\n",
       "      <td>1</td>\n",
       "      <td>1</td>\n",
       "      <td>1</td>\n",
       "      <td>0</td>\n",
       "      <td>5955</td>\n",
       "      <td>5625.0</td>\n",
       "      <td>315.000000</td>\n",
       "      <td>360.0</td>\n",
       "      <td>1.000000</td>\n",
       "      <td>1</td>\n",
       "      <td>1</td>\n",
       "      <td>medium</td>\n",
       "      <td>medium</td>\n",
       "    </tr>\n",
       "    <tr>\n",
       "      <th>22</th>\n",
       "      <td>LP001047</td>\n",
       "      <td>0</td>\n",
       "      <td>1</td>\n",
       "      <td>0</td>\n",
       "      <td>0</td>\n",
       "      <td>0</td>\n",
       "      <td>2600</td>\n",
       "      <td>1911.0</td>\n",
       "      <td>116.000000</td>\n",
       "      <td>360.0</td>\n",
       "      <td>0.000000</td>\n",
       "      <td>3</td>\n",
       "      <td>0</td>\n",
       "      <td>low</td>\n",
       "      <td>low</td>\n",
       "    </tr>\n",
       "    <tr>\n",
       "      <th>23</th>\n",
       "      <td>LP001050</td>\n",
       "      <td>0</td>\n",
       "      <td>1</td>\n",
       "      <td>2</td>\n",
       "      <td>0</td>\n",
       "      <td>0</td>\n",
       "      <td>3365</td>\n",
       "      <td>1917.0</td>\n",
       "      <td>112.000000</td>\n",
       "      <td>360.0</td>\n",
       "      <td>0.000000</td>\n",
       "      <td>2</td>\n",
       "      <td>0</td>\n",
       "      <td>low</td>\n",
       "      <td>low</td>\n",
       "    </tr>\n",
       "    <tr>\n",
       "      <th>24</th>\n",
       "      <td>LP001052</td>\n",
       "      <td>0</td>\n",
       "      <td>1</td>\n",
       "      <td>1</td>\n",
       "      <td>1</td>\n",
       "      <td>0</td>\n",
       "      <td>3717</td>\n",
       "      <td>2925.0</td>\n",
       "      <td>151.000000</td>\n",
       "      <td>360.0</td>\n",
       "      <td>0.841918</td>\n",
       "      <td>3</td>\n",
       "      <td>0</td>\n",
       "      <td>medium</td>\n",
       "      <td>medium</td>\n",
       "    </tr>\n",
       "    <tr>\n",
       "      <th>25</th>\n",
       "      <td>LP001066</td>\n",
       "      <td>0</td>\n",
       "      <td>1</td>\n",
       "      <td>0</td>\n",
       "      <td>1</td>\n",
       "      <td>1</td>\n",
       "      <td>9560</td>\n",
       "      <td>0.0</td>\n",
       "      <td>191.000000</td>\n",
       "      <td>360.0</td>\n",
       "      <td>1.000000</td>\n",
       "      <td>3</td>\n",
       "      <td>1</td>\n",
       "      <td>low</td>\n",
       "      <td>low</td>\n",
       "    </tr>\n",
       "    <tr>\n",
       "      <th>26</th>\n",
       "      <td>LP001068</td>\n",
       "      <td>0</td>\n",
       "      <td>1</td>\n",
       "      <td>0</td>\n",
       "      <td>1</td>\n",
       "      <td>0</td>\n",
       "      <td>2799</td>\n",
       "      <td>2253.0</td>\n",
       "      <td>122.000000</td>\n",
       "      <td>360.0</td>\n",
       "      <td>1.000000</td>\n",
       "      <td>3</td>\n",
       "      <td>1</td>\n",
       "      <td>medium</td>\n",
       "      <td>medium</td>\n",
       "    </tr>\n",
       "    <tr>\n",
       "      <th>27</th>\n",
       "      <td>LP001073</td>\n",
       "      <td>0</td>\n",
       "      <td>1</td>\n",
       "      <td>2</td>\n",
       "      <td>0</td>\n",
       "      <td>0</td>\n",
       "      <td>4226</td>\n",
       "      <td>1040.0</td>\n",
       "      <td>110.000000</td>\n",
       "      <td>360.0</td>\n",
       "      <td>1.000000</td>\n",
       "      <td>1</td>\n",
       "      <td>1</td>\n",
       "      <td>low</td>\n",
       "      <td>low</td>\n",
       "    </tr>\n",
       "    <tr>\n",
       "      <th>28</th>\n",
       "      <td>LP001086</td>\n",
       "      <td>0</td>\n",
       "      <td>0</td>\n",
       "      <td>0</td>\n",
       "      <td>0</td>\n",
       "      <td>0</td>\n",
       "      <td>1442</td>\n",
       "      <td>0.0</td>\n",
       "      <td>35.000000</td>\n",
       "      <td>360.0</td>\n",
       "      <td>1.000000</td>\n",
       "      <td>1</td>\n",
       "      <td>0</td>\n",
       "      <td>low</td>\n",
       "      <td>low</td>\n",
       "    </tr>\n",
       "    <tr>\n",
       "      <th>29</th>\n",
       "      <td>LP001087</td>\n",
       "      <td>1</td>\n",
       "      <td>0</td>\n",
       "      <td>2</td>\n",
       "      <td>1</td>\n",
       "      <td>0</td>\n",
       "      <td>3750</td>\n",
       "      <td>2083.0</td>\n",
       "      <td>120.000000</td>\n",
       "      <td>360.0</td>\n",
       "      <td>1.000000</td>\n",
       "      <td>3</td>\n",
       "      <td>1</td>\n",
       "      <td>medium</td>\n",
       "      <td>medium</td>\n",
       "    </tr>\n",
       "  </tbody>\n",
       "</table>\n",
       "<p>30 rows × 15 columns</p>\n",
       "</div>"
      ],
      "text/plain": [
       "     Loan_ID  Gender  Married  Dependents  Education  Self_Employed  \\\n",
       "0   LP001002       0        0           0          1              0   \n",
       "1   LP001003       0        1           1          1              0   \n",
       "2   LP001005       0        1           0          1              1   \n",
       "3   LP001006       0        1           0          0              0   \n",
       "4   LP001008       0        0           0          1              0   \n",
       "5   LP001011       0        1           2          1              1   \n",
       "6   LP001013       0        1           0          0              0   \n",
       "7   LP001014       0        1           3          1              0   \n",
       "8   LP001018       0        1           2          1              0   \n",
       "9   LP001020       0        1           1          1              0   \n",
       "..       ...     ...      ...         ...        ...            ...   \n",
       "20  LP001043       0        1           0          0              0   \n",
       "21  LP001046       0        1           1          1              0   \n",
       "22  LP001047       0        1           0          0              0   \n",
       "23  LP001050       0        1           2          0              0   \n",
       "24  LP001052       0        1           1          1              0   \n",
       "25  LP001066       0        1           0          1              1   \n",
       "26  LP001068       0        1           0          1              0   \n",
       "27  LP001073       0        1           2          0              0   \n",
       "28  LP001086       0        0           0          0              0   \n",
       "29  LP001087       1        0           2          1              0   \n",
       "\n",
       "    ApplicantIncome  CoapplicantIncome  LoanAmount  Loan_Amount_Term  \\\n",
       "0              5849                0.0  146.412162             360.0   \n",
       "1              4583             1508.0  128.000000             360.0   \n",
       "2              3000                0.0   66.000000             360.0   \n",
       "3              2583             2358.0  120.000000             360.0   \n",
       "4              6000                0.0  141.000000             360.0   \n",
       "5              5417             4196.0  267.000000             360.0   \n",
       "6              2333             1516.0   95.000000             360.0   \n",
       "7              3036             2504.0  158.000000             360.0   \n",
       "8              4006             1526.0  168.000000             360.0   \n",
       "9             12841            10968.0  349.000000             360.0   \n",
       "..              ...                ...         ...               ...   \n",
       "20             7660                0.0  104.000000             360.0   \n",
       "21             5955             5625.0  315.000000             360.0   \n",
       "22             2600             1911.0  116.000000             360.0   \n",
       "23             3365             1917.0  112.000000             360.0   \n",
       "24             3717             2925.0  151.000000             360.0   \n",
       "25             9560                0.0  191.000000             360.0   \n",
       "26             2799             2253.0  122.000000             360.0   \n",
       "27             4226             1040.0  110.000000             360.0   \n",
       "28             1442                0.0   35.000000             360.0   \n",
       "29             3750             2083.0  120.000000             360.0   \n",
       "\n",
       "    Credit_History  Property_Area  Loan_Status IncomeGroup CoIncomeGroup  \n",
       "0         1.000000              1            1         low           low  \n",
       "1         1.000000              2            0         low           low  \n",
       "2         1.000000              1            1         low           low  \n",
       "3         1.000000              1            1      medium        medium  \n",
       "4         1.000000              1            1         low           low  \n",
       "5         1.000000              1            1      medium        medium  \n",
       "6         1.000000              1            1         low           low  \n",
       "7         0.000000              3            0      medium        medium  \n",
       "8         1.000000              1            1         low           low  \n",
       "9         1.000000              3            0      medium          high  \n",
       "..             ...            ...          ...         ...           ...  \n",
       "20        0.000000              1            0         low           low  \n",
       "21        1.000000              1            1      medium        medium  \n",
       "22        0.000000              3            0         low           low  \n",
       "23        0.000000              2            0         low           low  \n",
       "24        0.841918              3            0      medium        medium  \n",
       "25        1.000000              3            1         low           low  \n",
       "26        1.000000              3            1      medium        medium  \n",
       "27        1.000000              1            1         low           low  \n",
       "28        1.000000              1            0         low           low  \n",
       "29        1.000000              3            1      medium        medium  \n",
       "\n",
       "[30 rows x 15 columns]"
      ]
     },
     "execution_count": 157,
     "metadata": {},
     "output_type": "execute_result"
    }
   ],
   "source": [
    "drop_na_rows.head(30)"
   ]
  },
  {
   "cell_type": "markdown",
   "metadata": {},
   "source": [
    "#### Question 2:\n",
    "Download the data set `imdb_1000.csv` and load it into a data frame. This data set contains rating information for about one thousand of movies. The following columns appear in the data set: star_rating, title, content_rating, genre, duration, and actors_list. Write code to clean and wrangle the data as instructed below:\n",
    "- The actors_list column contains strings each of which should have three actor names. Extract the three actor names and add three new columns: actor_1, actor_2, actor_3 in the data set. After the extraction, remove the column actors_list.\n",
    "\n",
    "**Note**: Your solution must be different from the kernel at: [https://www.kaggle.com/pkabir/imdb-movies-text-data-cleaning](https://www.kaggle.com/pkabir/imdb-movies-text-data-cleaning)"
   ]
  },
  {
   "cell_type": "code",
   "execution_count": 158,
   "metadata": {
    "scrolled": true
   },
   "outputs": [
    {
     "data": {
      "text/html": [
       "<div>\n",
       "<style scoped>\n",
       "    .dataframe tbody tr th:only-of-type {\n",
       "        vertical-align: middle;\n",
       "    }\n",
       "\n",
       "    .dataframe tbody tr th {\n",
       "        vertical-align: top;\n",
       "    }\n",
       "\n",
       "    .dataframe thead th {\n",
       "        text-align: right;\n",
       "    }\n",
       "</style>\n",
       "<table border=\"1\" class=\"dataframe\">\n",
       "  <thead>\n",
       "    <tr style=\"text-align: right;\">\n",
       "      <th></th>\n",
       "      <th>star_rating</th>\n",
       "      <th>title</th>\n",
       "      <th>content_rating</th>\n",
       "      <th>genre</th>\n",
       "      <th>duration</th>\n",
       "      <th>actors_list</th>\n",
       "    </tr>\n",
       "  </thead>\n",
       "  <tbody>\n",
       "    <tr>\n",
       "      <th>0</th>\n",
       "      <td>9.3</td>\n",
       "      <td>The Shawshank Redemption</td>\n",
       "      <td>R</td>\n",
       "      <td>Crime</td>\n",
       "      <td>142</td>\n",
       "      <td>[u'Tim Robbins', u'Morgan Freeman', u'Bob Gunt...</td>\n",
       "    </tr>\n",
       "    <tr>\n",
       "      <th>1</th>\n",
       "      <td>9.2</td>\n",
       "      <td>The Godfather</td>\n",
       "      <td>R</td>\n",
       "      <td>Crime</td>\n",
       "      <td>175</td>\n",
       "      <td>[u'Marlon Brando', u'Al Pacino', u'James Caan']</td>\n",
       "    </tr>\n",
       "    <tr>\n",
       "      <th>2</th>\n",
       "      <td>9.1</td>\n",
       "      <td>The Godfather: Part II</td>\n",
       "      <td>R</td>\n",
       "      <td>Crime</td>\n",
       "      <td>200</td>\n",
       "      <td>[u'Al Pacino', u'Robert De Niro', u'Robert Duv...</td>\n",
       "    </tr>\n",
       "    <tr>\n",
       "      <th>3</th>\n",
       "      <td>9.0</td>\n",
       "      <td>The Dark Knight</td>\n",
       "      <td>PG-13</td>\n",
       "      <td>Action</td>\n",
       "      <td>152</td>\n",
       "      <td>[u'Christian Bale', u'Heath Ledger', u'Aaron E...</td>\n",
       "    </tr>\n",
       "    <tr>\n",
       "      <th>4</th>\n",
       "      <td>8.9</td>\n",
       "      <td>Pulp Fiction</td>\n",
       "      <td>R</td>\n",
       "      <td>Crime</td>\n",
       "      <td>154</td>\n",
       "      <td>[u'John Travolta', u'Uma Thurman', u'Samuel L....</td>\n",
       "    </tr>\n",
       "  </tbody>\n",
       "</table>\n",
       "</div>"
      ],
      "text/plain": [
       "   star_rating                     title content_rating   genre  duration  \\\n",
       "0          9.3  The Shawshank Redemption              R   Crime       142   \n",
       "1          9.2             The Godfather              R   Crime       175   \n",
       "2          9.1    The Godfather: Part II              R   Crime       200   \n",
       "3          9.0           The Dark Knight          PG-13  Action       152   \n",
       "4          8.9              Pulp Fiction              R   Crime       154   \n",
       "\n",
       "                                         actors_list  \n",
       "0  [u'Tim Robbins', u'Morgan Freeman', u'Bob Gunt...  \n",
       "1    [u'Marlon Brando', u'Al Pacino', u'James Caan']  \n",
       "2  [u'Al Pacino', u'Robert De Niro', u'Robert Duv...  \n",
       "3  [u'Christian Bale', u'Heath Ledger', u'Aaron E...  \n",
       "4  [u'John Travolta', u'Uma Thurman', u'Samuel L....  "
      ]
     },
     "execution_count": 158,
     "metadata": {},
     "output_type": "execute_result"
    }
   ],
   "source": [
    "# Write your code below\n",
    "movies_df = pd.read_csv(\"datasets/imdb_1000.csv\")\n",
    "movies_df.head()"
   ]
  },
  {
   "cell_type": "code",
   "execution_count": 159,
   "metadata": {},
   "outputs": [
    {
     "data": {
      "text/plain": [
       "(979, 6)"
      ]
     },
     "execution_count": 159,
     "metadata": {},
     "output_type": "execute_result"
    }
   ],
   "source": [
    "movies_df.shape"
   ]
  },
  {
   "cell_type": "code",
   "execution_count": 160,
   "metadata": {},
   "outputs": [],
   "source": [
    "import re"
   ]
  },
  {
   "cell_type": "code",
   "execution_count": 161,
   "metadata": {},
   "outputs": [],
   "source": [
    "remove1 = lambda s: re.sub(r'u\\'', '', s)\n",
    "remove2 = lambda s: re.sub(r'\\[', '', s)\n",
    "remove3 = lambda s:re.sub(r'\\]','',s)\n",
    "remove4 = lambda s:re.sub(r'\\'','',s)\n",
    "actors_split = lambda s:s.split(',')"
   ]
  },
  {
   "cell_type": "code",
   "execution_count": 162,
   "metadata": {},
   "outputs": [],
   "source": [
    "new_list = movies_df['actors_list'].map(remove1).map(remove2).map(remove3).map(remove4)"
   ]
  },
  {
   "cell_type": "code",
   "execution_count": 163,
   "metadata": {},
   "outputs": [
    {
     "data": {
      "text/plain": [
       "0                Tim Robbins, Morgan Freeman, Bob Gunton\n",
       "1                   Marlon Brando, Al Pacino, James Caan\n",
       "2               Al Pacino, Robert De Niro, Robert Duvall\n",
       "3            Christian Bale, Heath Ledger, Aaron Eckhart\n",
       "4          John Travolta, Uma Thurman, Samuel L. Jackson\n",
       "5                Henry Fonda, Lee J. Cobb, Martin Balsam\n",
       "6             Clint Eastwood, Eli Wallach, Lee Van Cleef\n",
       "7             Elijah Wood, Viggo Mortensen, Ian McKellen\n",
       "8               Liam Neeson, Ralph Fiennes, Ben Kingsley\n",
       "9         Brad Pitt, Edward Norton, Helena Bonham Carter\n",
       "                             ...                        \n",
       "969               Gerard Butler, Jamie Foxx, Leslie Bibb\n",
       "970    Michael Douglas, Tobey Maguire, Frances McDormand\n",
       "971      Matthew Macfadyen, Peter Dinklage, Ewen Bremner\n",
       "972          Ryan Gosling, Michelle Williams, John Doman\n",
       "973        Tobey Maguire, Charlize Theron, Michael Caine\n",
       "974             Dustin Hoffman, Jessica Lange, Teri Garr\n",
       "975    Michael J. Fox, Christopher Lloyd, Mary Steenb...\n",
       "976              Russell Crowe, Paul Bettany, Billy Boyd\n",
       "977    JoBeth Williams, Heather ORourke, Craig T. Nelson\n",
       "978         Charlie Sheen, Michael Douglas, Tamara Tunie\n",
       "Name: actors_list, Length: 979, dtype: object"
      ]
     },
     "execution_count": 163,
     "metadata": {},
     "output_type": "execute_result"
    }
   ],
   "source": [
    "new_list"
   ]
  },
  {
   "cell_type": "code",
   "execution_count": 164,
   "metadata": {},
   "outputs": [],
   "source": [
    "new_df = pd.DataFrame(new_list.str.split(\",\").tolist(), columns = ['actor1','actor2','actor2'])"
   ]
  },
  {
   "cell_type": "code",
   "execution_count": 165,
   "metadata": {},
   "outputs": [
    {
     "data": {
      "text/html": [
       "<div>\n",
       "<style scoped>\n",
       "    .dataframe tbody tr th:only-of-type {\n",
       "        vertical-align: middle;\n",
       "    }\n",
       "\n",
       "    .dataframe tbody tr th {\n",
       "        vertical-align: top;\n",
       "    }\n",
       "\n",
       "    .dataframe thead th {\n",
       "        text-align: right;\n",
       "    }\n",
       "</style>\n",
       "<table border=\"1\" class=\"dataframe\">\n",
       "  <thead>\n",
       "    <tr style=\"text-align: right;\">\n",
       "      <th></th>\n",
       "      <th>actor1</th>\n",
       "      <th>actor2</th>\n",
       "      <th>actor2</th>\n",
       "    </tr>\n",
       "  </thead>\n",
       "  <tbody>\n",
       "    <tr>\n",
       "      <th>0</th>\n",
       "      <td>Tim Robbins</td>\n",
       "      <td>Morgan Freeman</td>\n",
       "      <td>Bob Gunton</td>\n",
       "    </tr>\n",
       "    <tr>\n",
       "      <th>1</th>\n",
       "      <td>Marlon Brando</td>\n",
       "      <td>Al Pacino</td>\n",
       "      <td>James Caan</td>\n",
       "    </tr>\n",
       "    <tr>\n",
       "      <th>2</th>\n",
       "      <td>Al Pacino</td>\n",
       "      <td>Robert De Niro</td>\n",
       "      <td>Robert Duvall</td>\n",
       "    </tr>\n",
       "    <tr>\n",
       "      <th>3</th>\n",
       "      <td>Christian Bale</td>\n",
       "      <td>Heath Ledger</td>\n",
       "      <td>Aaron Eckhart</td>\n",
       "    </tr>\n",
       "    <tr>\n",
       "      <th>4</th>\n",
       "      <td>John Travolta</td>\n",
       "      <td>Uma Thurman</td>\n",
       "      <td>Samuel L. Jackson</td>\n",
       "    </tr>\n",
       "    <tr>\n",
       "      <th>5</th>\n",
       "      <td>Henry Fonda</td>\n",
       "      <td>Lee J. Cobb</td>\n",
       "      <td>Martin Balsam</td>\n",
       "    </tr>\n",
       "    <tr>\n",
       "      <th>6</th>\n",
       "      <td>Clint Eastwood</td>\n",
       "      <td>Eli Wallach</td>\n",
       "      <td>Lee Van Cleef</td>\n",
       "    </tr>\n",
       "    <tr>\n",
       "      <th>7</th>\n",
       "      <td>Elijah Wood</td>\n",
       "      <td>Viggo Mortensen</td>\n",
       "      <td>Ian McKellen</td>\n",
       "    </tr>\n",
       "    <tr>\n",
       "      <th>8</th>\n",
       "      <td>Liam Neeson</td>\n",
       "      <td>Ralph Fiennes</td>\n",
       "      <td>Ben Kingsley</td>\n",
       "    </tr>\n",
       "    <tr>\n",
       "      <th>9</th>\n",
       "      <td>Brad Pitt</td>\n",
       "      <td>Edward Norton</td>\n",
       "      <td>Helena Bonham Carter</td>\n",
       "    </tr>\n",
       "    <tr>\n",
       "      <th>...</th>\n",
       "      <td>...</td>\n",
       "      <td>...</td>\n",
       "      <td>...</td>\n",
       "    </tr>\n",
       "    <tr>\n",
       "      <th>969</th>\n",
       "      <td>Gerard Butler</td>\n",
       "      <td>Jamie Foxx</td>\n",
       "      <td>Leslie Bibb</td>\n",
       "    </tr>\n",
       "    <tr>\n",
       "      <th>970</th>\n",
       "      <td>Michael Douglas</td>\n",
       "      <td>Tobey Maguire</td>\n",
       "      <td>Frances McDormand</td>\n",
       "    </tr>\n",
       "    <tr>\n",
       "      <th>971</th>\n",
       "      <td>Matthew Macfadyen</td>\n",
       "      <td>Peter Dinklage</td>\n",
       "      <td>Ewen Bremner</td>\n",
       "    </tr>\n",
       "    <tr>\n",
       "      <th>972</th>\n",
       "      <td>Ryan Gosling</td>\n",
       "      <td>Michelle Williams</td>\n",
       "      <td>John Doman</td>\n",
       "    </tr>\n",
       "    <tr>\n",
       "      <th>973</th>\n",
       "      <td>Tobey Maguire</td>\n",
       "      <td>Charlize Theron</td>\n",
       "      <td>Michael Caine</td>\n",
       "    </tr>\n",
       "    <tr>\n",
       "      <th>974</th>\n",
       "      <td>Dustin Hoffman</td>\n",
       "      <td>Jessica Lange</td>\n",
       "      <td>Teri Garr</td>\n",
       "    </tr>\n",
       "    <tr>\n",
       "      <th>975</th>\n",
       "      <td>Michael J. Fox</td>\n",
       "      <td>Christopher Lloyd</td>\n",
       "      <td>Mary Steenburgen</td>\n",
       "    </tr>\n",
       "    <tr>\n",
       "      <th>976</th>\n",
       "      <td>Russell Crowe</td>\n",
       "      <td>Paul Bettany</td>\n",
       "      <td>Billy Boyd</td>\n",
       "    </tr>\n",
       "    <tr>\n",
       "      <th>977</th>\n",
       "      <td>JoBeth Williams</td>\n",
       "      <td>Heather ORourke</td>\n",
       "      <td>Craig T. Nelson</td>\n",
       "    </tr>\n",
       "    <tr>\n",
       "      <th>978</th>\n",
       "      <td>Charlie Sheen</td>\n",
       "      <td>Michael Douglas</td>\n",
       "      <td>Tamara Tunie</td>\n",
       "    </tr>\n",
       "  </tbody>\n",
       "</table>\n",
       "<p>979 rows × 3 columns</p>\n",
       "</div>"
      ],
      "text/plain": [
       "                actor1              actor2                 actor2\n",
       "0          Tim Robbins      Morgan Freeman             Bob Gunton\n",
       "1        Marlon Brando           Al Pacino             James Caan\n",
       "2            Al Pacino      Robert De Niro          Robert Duvall\n",
       "3       Christian Bale        Heath Ledger          Aaron Eckhart\n",
       "4        John Travolta         Uma Thurman      Samuel L. Jackson\n",
       "5          Henry Fonda         Lee J. Cobb          Martin Balsam\n",
       "6       Clint Eastwood         Eli Wallach          Lee Van Cleef\n",
       "7          Elijah Wood     Viggo Mortensen           Ian McKellen\n",
       "8          Liam Neeson       Ralph Fiennes           Ben Kingsley\n",
       "9            Brad Pitt       Edward Norton   Helena Bonham Carter\n",
       "..                 ...                 ...                    ...\n",
       "969      Gerard Butler          Jamie Foxx            Leslie Bibb\n",
       "970    Michael Douglas       Tobey Maguire      Frances McDormand\n",
       "971  Matthew Macfadyen      Peter Dinklage           Ewen Bremner\n",
       "972       Ryan Gosling   Michelle Williams             John Doman\n",
       "973      Tobey Maguire     Charlize Theron          Michael Caine\n",
       "974     Dustin Hoffman       Jessica Lange              Teri Garr\n",
       "975     Michael J. Fox   Christopher Lloyd       Mary Steenburgen\n",
       "976      Russell Crowe        Paul Bettany             Billy Boyd\n",
       "977    JoBeth Williams     Heather ORourke        Craig T. Nelson\n",
       "978      Charlie Sheen     Michael Douglas           Tamara Tunie\n",
       "\n",
       "[979 rows x 3 columns]"
      ]
     },
     "execution_count": 165,
     "metadata": {},
     "output_type": "execute_result"
    }
   ],
   "source": [
    "new_df"
   ]
  },
  {
   "cell_type": "code",
   "execution_count": 166,
   "metadata": {},
   "outputs": [],
   "source": [
    "df_list = [movies_df,new_df]\n",
    "movies_df = pd.concat(df_list, axis = 1)"
   ]
  },
  {
   "cell_type": "code",
   "execution_count": 167,
   "metadata": {},
   "outputs": [
    {
     "data": {
      "text/html": [
       "<div>\n",
       "<style scoped>\n",
       "    .dataframe tbody tr th:only-of-type {\n",
       "        vertical-align: middle;\n",
       "    }\n",
       "\n",
       "    .dataframe tbody tr th {\n",
       "        vertical-align: top;\n",
       "    }\n",
       "\n",
       "    .dataframe thead th {\n",
       "        text-align: right;\n",
       "    }\n",
       "</style>\n",
       "<table border=\"1\" class=\"dataframe\">\n",
       "  <thead>\n",
       "    <tr style=\"text-align: right;\">\n",
       "      <th></th>\n",
       "      <th>star_rating</th>\n",
       "      <th>title</th>\n",
       "      <th>content_rating</th>\n",
       "      <th>genre</th>\n",
       "      <th>duration</th>\n",
       "      <th>actor1</th>\n",
       "      <th>actor2</th>\n",
       "      <th>actor2</th>\n",
       "    </tr>\n",
       "  </thead>\n",
       "  <tbody>\n",
       "    <tr>\n",
       "      <th>0</th>\n",
       "      <td>9.3</td>\n",
       "      <td>The Shawshank Redemption</td>\n",
       "      <td>R</td>\n",
       "      <td>Crime</td>\n",
       "      <td>142</td>\n",
       "      <td>Tim Robbins</td>\n",
       "      <td>Morgan Freeman</td>\n",
       "      <td>Bob Gunton</td>\n",
       "    </tr>\n",
       "    <tr>\n",
       "      <th>1</th>\n",
       "      <td>9.2</td>\n",
       "      <td>The Godfather</td>\n",
       "      <td>R</td>\n",
       "      <td>Crime</td>\n",
       "      <td>175</td>\n",
       "      <td>Marlon Brando</td>\n",
       "      <td>Al Pacino</td>\n",
       "      <td>James Caan</td>\n",
       "    </tr>\n",
       "    <tr>\n",
       "      <th>2</th>\n",
       "      <td>9.1</td>\n",
       "      <td>The Godfather: Part II</td>\n",
       "      <td>R</td>\n",
       "      <td>Crime</td>\n",
       "      <td>200</td>\n",
       "      <td>Al Pacino</td>\n",
       "      <td>Robert De Niro</td>\n",
       "      <td>Robert Duvall</td>\n",
       "    </tr>\n",
       "    <tr>\n",
       "      <th>3</th>\n",
       "      <td>9.0</td>\n",
       "      <td>The Dark Knight</td>\n",
       "      <td>PG-13</td>\n",
       "      <td>Action</td>\n",
       "      <td>152</td>\n",
       "      <td>Christian Bale</td>\n",
       "      <td>Heath Ledger</td>\n",
       "      <td>Aaron Eckhart</td>\n",
       "    </tr>\n",
       "    <tr>\n",
       "      <th>4</th>\n",
       "      <td>8.9</td>\n",
       "      <td>Pulp Fiction</td>\n",
       "      <td>R</td>\n",
       "      <td>Crime</td>\n",
       "      <td>154</td>\n",
       "      <td>John Travolta</td>\n",
       "      <td>Uma Thurman</td>\n",
       "      <td>Samuel L. Jackson</td>\n",
       "    </tr>\n",
       "    <tr>\n",
       "      <th>5</th>\n",
       "      <td>8.9</td>\n",
       "      <td>12 Angry Men</td>\n",
       "      <td>NOT RATED</td>\n",
       "      <td>Drama</td>\n",
       "      <td>96</td>\n",
       "      <td>Henry Fonda</td>\n",
       "      <td>Lee J. Cobb</td>\n",
       "      <td>Martin Balsam</td>\n",
       "    </tr>\n",
       "    <tr>\n",
       "      <th>6</th>\n",
       "      <td>8.9</td>\n",
       "      <td>The Good, the Bad and the Ugly</td>\n",
       "      <td>NOT RATED</td>\n",
       "      <td>Western</td>\n",
       "      <td>161</td>\n",
       "      <td>Clint Eastwood</td>\n",
       "      <td>Eli Wallach</td>\n",
       "      <td>Lee Van Cleef</td>\n",
       "    </tr>\n",
       "    <tr>\n",
       "      <th>7</th>\n",
       "      <td>8.9</td>\n",
       "      <td>The Lord of the Rings: The Return of the King</td>\n",
       "      <td>PG-13</td>\n",
       "      <td>Adventure</td>\n",
       "      <td>201</td>\n",
       "      <td>Elijah Wood</td>\n",
       "      <td>Viggo Mortensen</td>\n",
       "      <td>Ian McKellen</td>\n",
       "    </tr>\n",
       "    <tr>\n",
       "      <th>8</th>\n",
       "      <td>8.9</td>\n",
       "      <td>Schindler's List</td>\n",
       "      <td>R</td>\n",
       "      <td>Biography</td>\n",
       "      <td>195</td>\n",
       "      <td>Liam Neeson</td>\n",
       "      <td>Ralph Fiennes</td>\n",
       "      <td>Ben Kingsley</td>\n",
       "    </tr>\n",
       "    <tr>\n",
       "      <th>9</th>\n",
       "      <td>8.9</td>\n",
       "      <td>Fight Club</td>\n",
       "      <td>R</td>\n",
       "      <td>Drama</td>\n",
       "      <td>139</td>\n",
       "      <td>Brad Pitt</td>\n",
       "      <td>Edward Norton</td>\n",
       "      <td>Helena Bonham Carter</td>\n",
       "    </tr>\n",
       "    <tr>\n",
       "      <th>...</th>\n",
       "      <td>...</td>\n",
       "      <td>...</td>\n",
       "      <td>...</td>\n",
       "      <td>...</td>\n",
       "      <td>...</td>\n",
       "      <td>...</td>\n",
       "      <td>...</td>\n",
       "      <td>...</td>\n",
       "    </tr>\n",
       "    <tr>\n",
       "      <th>969</th>\n",
       "      <td>7.4</td>\n",
       "      <td>Law Abiding Citizen</td>\n",
       "      <td>R</td>\n",
       "      <td>Crime</td>\n",
       "      <td>109</td>\n",
       "      <td>Gerard Butler</td>\n",
       "      <td>Jamie Foxx</td>\n",
       "      <td>Leslie Bibb</td>\n",
       "    </tr>\n",
       "    <tr>\n",
       "      <th>970</th>\n",
       "      <td>7.4</td>\n",
       "      <td>Wonder Boys</td>\n",
       "      <td>R</td>\n",
       "      <td>Drama</td>\n",
       "      <td>107</td>\n",
       "      <td>Michael Douglas</td>\n",
       "      <td>Tobey Maguire</td>\n",
       "      <td>Frances McDormand</td>\n",
       "    </tr>\n",
       "    <tr>\n",
       "      <th>971</th>\n",
       "      <td>7.4</td>\n",
       "      <td>Death at a Funeral</td>\n",
       "      <td>R</td>\n",
       "      <td>Comedy</td>\n",
       "      <td>90</td>\n",
       "      <td>Matthew Macfadyen</td>\n",
       "      <td>Peter Dinklage</td>\n",
       "      <td>Ewen Bremner</td>\n",
       "    </tr>\n",
       "    <tr>\n",
       "      <th>972</th>\n",
       "      <td>7.4</td>\n",
       "      <td>Blue Valentine</td>\n",
       "      <td>NC-17</td>\n",
       "      <td>Drama</td>\n",
       "      <td>112</td>\n",
       "      <td>Ryan Gosling</td>\n",
       "      <td>Michelle Williams</td>\n",
       "      <td>John Doman</td>\n",
       "    </tr>\n",
       "    <tr>\n",
       "      <th>973</th>\n",
       "      <td>7.4</td>\n",
       "      <td>The Cider House Rules</td>\n",
       "      <td>PG-13</td>\n",
       "      <td>Drama</td>\n",
       "      <td>126</td>\n",
       "      <td>Tobey Maguire</td>\n",
       "      <td>Charlize Theron</td>\n",
       "      <td>Michael Caine</td>\n",
       "    </tr>\n",
       "    <tr>\n",
       "      <th>974</th>\n",
       "      <td>7.4</td>\n",
       "      <td>Tootsie</td>\n",
       "      <td>PG</td>\n",
       "      <td>Comedy</td>\n",
       "      <td>116</td>\n",
       "      <td>Dustin Hoffman</td>\n",
       "      <td>Jessica Lange</td>\n",
       "      <td>Teri Garr</td>\n",
       "    </tr>\n",
       "    <tr>\n",
       "      <th>975</th>\n",
       "      <td>7.4</td>\n",
       "      <td>Back to the Future Part III</td>\n",
       "      <td>PG</td>\n",
       "      <td>Adventure</td>\n",
       "      <td>118</td>\n",
       "      <td>Michael J. Fox</td>\n",
       "      <td>Christopher Lloyd</td>\n",
       "      <td>Mary Steenburgen</td>\n",
       "    </tr>\n",
       "    <tr>\n",
       "      <th>976</th>\n",
       "      <td>7.4</td>\n",
       "      <td>Master and Commander: The Far Side of the World</td>\n",
       "      <td>PG-13</td>\n",
       "      <td>Action</td>\n",
       "      <td>138</td>\n",
       "      <td>Russell Crowe</td>\n",
       "      <td>Paul Bettany</td>\n",
       "      <td>Billy Boyd</td>\n",
       "    </tr>\n",
       "    <tr>\n",
       "      <th>977</th>\n",
       "      <td>7.4</td>\n",
       "      <td>Poltergeist</td>\n",
       "      <td>PG</td>\n",
       "      <td>Horror</td>\n",
       "      <td>114</td>\n",
       "      <td>JoBeth Williams</td>\n",
       "      <td>Heather ORourke</td>\n",
       "      <td>Craig T. Nelson</td>\n",
       "    </tr>\n",
       "    <tr>\n",
       "      <th>978</th>\n",
       "      <td>7.4</td>\n",
       "      <td>Wall Street</td>\n",
       "      <td>R</td>\n",
       "      <td>Crime</td>\n",
       "      <td>126</td>\n",
       "      <td>Charlie Sheen</td>\n",
       "      <td>Michael Douglas</td>\n",
       "      <td>Tamara Tunie</td>\n",
       "    </tr>\n",
       "  </tbody>\n",
       "</table>\n",
       "<p>979 rows × 8 columns</p>\n",
       "</div>"
      ],
      "text/plain": [
       "     star_rating                                            title  \\\n",
       "0            9.3                         The Shawshank Redemption   \n",
       "1            9.2                                    The Godfather   \n",
       "2            9.1                           The Godfather: Part II   \n",
       "3            9.0                                  The Dark Knight   \n",
       "4            8.9                                     Pulp Fiction   \n",
       "5            8.9                                     12 Angry Men   \n",
       "6            8.9                   The Good, the Bad and the Ugly   \n",
       "7            8.9    The Lord of the Rings: The Return of the King   \n",
       "8            8.9                                 Schindler's List   \n",
       "9            8.9                                       Fight Club   \n",
       "..           ...                                              ...   \n",
       "969          7.4                              Law Abiding Citizen   \n",
       "970          7.4                                      Wonder Boys   \n",
       "971          7.4                               Death at a Funeral   \n",
       "972          7.4                                   Blue Valentine   \n",
       "973          7.4                            The Cider House Rules   \n",
       "974          7.4                                          Tootsie   \n",
       "975          7.4                      Back to the Future Part III   \n",
       "976          7.4  Master and Commander: The Far Side of the World   \n",
       "977          7.4                                      Poltergeist   \n",
       "978          7.4                                      Wall Street   \n",
       "\n",
       "    content_rating      genre  duration             actor1  \\\n",
       "0                R      Crime       142        Tim Robbins   \n",
       "1                R      Crime       175      Marlon Brando   \n",
       "2                R      Crime       200          Al Pacino   \n",
       "3            PG-13     Action       152     Christian Bale   \n",
       "4                R      Crime       154      John Travolta   \n",
       "5        NOT RATED      Drama        96        Henry Fonda   \n",
       "6        NOT RATED    Western       161     Clint Eastwood   \n",
       "7            PG-13  Adventure       201        Elijah Wood   \n",
       "8                R  Biography       195        Liam Neeson   \n",
       "9                R      Drama       139          Brad Pitt   \n",
       "..             ...        ...       ...                ...   \n",
       "969              R      Crime       109      Gerard Butler   \n",
       "970              R      Drama       107    Michael Douglas   \n",
       "971              R     Comedy        90  Matthew Macfadyen   \n",
       "972          NC-17      Drama       112       Ryan Gosling   \n",
       "973          PG-13      Drama       126      Tobey Maguire   \n",
       "974             PG     Comedy       116     Dustin Hoffman   \n",
       "975             PG  Adventure       118     Michael J. Fox   \n",
       "976          PG-13     Action       138      Russell Crowe   \n",
       "977             PG     Horror       114    JoBeth Williams   \n",
       "978              R      Crime       126      Charlie Sheen   \n",
       "\n",
       "                 actor2                 actor2  \n",
       "0        Morgan Freeman             Bob Gunton  \n",
       "1             Al Pacino             James Caan  \n",
       "2        Robert De Niro          Robert Duvall  \n",
       "3          Heath Ledger          Aaron Eckhart  \n",
       "4           Uma Thurman      Samuel L. Jackson  \n",
       "5           Lee J. Cobb          Martin Balsam  \n",
       "6           Eli Wallach          Lee Van Cleef  \n",
       "7       Viggo Mortensen           Ian McKellen  \n",
       "8         Ralph Fiennes           Ben Kingsley  \n",
       "9         Edward Norton   Helena Bonham Carter  \n",
       "..                  ...                    ...  \n",
       "969          Jamie Foxx            Leslie Bibb  \n",
       "970       Tobey Maguire      Frances McDormand  \n",
       "971      Peter Dinklage           Ewen Bremner  \n",
       "972   Michelle Williams             John Doman  \n",
       "973     Charlize Theron          Michael Caine  \n",
       "974       Jessica Lange              Teri Garr  \n",
       "975   Christopher Lloyd       Mary Steenburgen  \n",
       "976        Paul Bettany             Billy Boyd  \n",
       "977     Heather ORourke        Craig T. Nelson  \n",
       "978     Michael Douglas           Tamara Tunie  \n",
       "\n",
       "[979 rows x 8 columns]"
      ]
     },
     "execution_count": 167,
     "metadata": {},
     "output_type": "execute_result"
    }
   ],
   "source": [
    "movies_df.drop('actors_list',axis =1)"
   ]
  },
  {
   "cell_type": "code",
   "execution_count": null,
   "metadata": {},
   "outputs": [],
   "source": []
  }
 ],
 "metadata": {
  "kernelspec": {
   "display_name": "Python 3",
   "language": "python",
   "name": "python3"
  },
  "language_info": {
   "codemirror_mode": {
    "name": "ipython",
    "version": 3
   },
   "file_extension": ".py",
   "mimetype": "text/x-python",
   "name": "python",
   "nbconvert_exporter": "python",
   "pygments_lexer": "ipython3",
   "version": "3.6.4"
  }
 },
 "nbformat": 4,
 "nbformat_minor": 2
}
