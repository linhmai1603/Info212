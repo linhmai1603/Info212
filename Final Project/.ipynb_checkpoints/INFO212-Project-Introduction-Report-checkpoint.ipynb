{
 "cells": [
  {
   "cell_type": "markdown",
   "metadata": {},
   "source": [
    "### College of Computing and Informatics, Drexel University\n",
    "### INFO 212: Data Science Programming I, Spring 2018\n",
    "---\n",
    "\n",
    "## Project Introduction Report\n",
    "\n",
    "## Project Title: The Demography Statistics of Income, Highschool Graduation, Debt, Rent of Counties in the US\n",
    "\n",
    "## Student(s): Linh Mai\n",
    "\n",
    "#### Date:06/03/2018\n",
    "---"
   ]
  },
  {
   "cell_type": "markdown",
   "metadata": {},
   "source": [
    "#### Purpose\n",
    "---\n",
    "You are asked to introduce your project in this report and present in the class. This introduction report should describe the problem, the data sets, and the goal(s) of the project. Use the Project Requirements at the end of this notebook for choosing and scoping your project. \n",
    "\n",
    "This report must be submitted to the instructor before Monday, June 4, 2018."
   ]
  },
  {
   "cell_type": "markdown",
   "metadata": {},
   "source": [
    "### 1. Introduction\n",
    "---\n",
    "*(Introduce the project, describe the objectives, and present the results. This section will provide an overview of the entire project including the description of the data sets and the specific data analytics methods and techniques the team used for analyzing the data to address the problem. Highlight the key findings.)* "
   ]
  },
  {
   "cell_type": "markdown",
   "metadata": {},
   "source": [
    "Using the dataset on Kaggle, my project will investigate the relationship between different attributes like income, average rent, graduation rate, divorced rate and debt rate of every county in the United States. The main goal of this project is to understand if there exists any connections between any of these attributes. Thus, to complete that goal, the datasets will contain data about those attributes for each of the county.\n",
    "\n",
    "Originally, the data set contain 75 fields that fall under multiple different themes. However, for this project, I will only keep fields that are related to Debt, Rent, High School Graduation, Population Demographics, Age Demographics and Household Income. After cleaning the data, I will plot these graphs to identify the relationship between different attributes: \n",
    "\n",
    "-\tGraduation rate vs Household Income\n",
    "-\tAverage rent in each states vs Average Household income in each state\n",
    "-\tGraduation rate vs Debt Rate\n",
    "-\tAverage age vs Household Income\n",
    "-\tDivorced rate vs Graduation rate\n",
    "\n",
    "The dataset will have 39031 rows and 22 columns\n",
    "\n",
    "From these graphs, I will try to conclude whether or not there are relationships between those attributes.\n",
    "\n",
    "---"
   ]
  },
  {
   "cell_type": "markdown",
   "metadata": {},
   "source": [
    "### 2. Problem Definition\n",
    "---\n",
    "*(Define the problem that will be solved in this data analytics project. Does the problem have stakeholders? Where does the problem come from? Who would be benefited from the solutions presented in this project? Use formal languages and notations to define the problem as much as possible.)*"
   ]
  },
  {
   "cell_type": "markdown",
   "metadata": {},
   "source": [
    "Geography of economic inequality is one of the main questions that the governments are trying to solve. This problem may come from the difference of economic resources and opportunities distribute between different areas. Hence, this project will try to answer the question if residential context plays a significant role in the diversity of income or education of the United States. \n",
    "\n",
    "Many different groups can be interested in the analyzed data of this project. For example, the US government can look at the data and reconsider the allocation of their economic resources. Other groups that can benefit from this project are investors and manufacturers who are looking for new places to set up their business. Who would be benefitted from the solutions presented in this project:\n",
    "-\tPolicy makers\n",
    "-\tInvestors\n",
    "-\tResidents in areas that lack of economic resources and opportunities.\n"
   ]
  },
  {
   "cell_type": "markdown",
   "metadata": {},
   "source": [
    "### 3. Data Sources\n",
    "---\n",
    "*(Describe the origin of the data sources. What is the format of the original data? How to access the data?)*"
   ]
  },
  {
   "cell_type": "markdown",
   "metadata": {},
   "source": [
    "-\tThe source of the data is from 2012-2016 ACS 5-Year Documentation provided by the U.S. Census Reports. Retrieved May 2, 2018\n",
    "-\tThe format of the original data is CSV.\n",
    "-\tThe data can be accessed from this link below:\n",
    "https://www.kaggle.com/goldenoakresearch/us-acs-mortgage-equity-loans-rent-statistics/data\n"
   ]
  },
  {
   "cell_type": "markdown",
   "metadata": {},
   "source": [
    "### 4. Other Things you Would Like to Describe\n",
    "---\n",
    "*(Is there anything you would like to describe as well? For example, preliminary results...)*"
   ]
  },
  {
   "cell_type": "markdown",
   "metadata": {},
   "source": [
    "For now that is everything I would like to discuss about my project."
   ]
  },
  {
   "cell_type": "markdown",
   "metadata": {},
   "source": [
    "---\n",
    "(*Use the following requirements for writing your reports. DO NOT DELETE THE CELLS BELLOW*)"
   ]
  },
  {
   "cell_type": "markdown",
   "metadata": {},
   "source": [
    "# Project Requirements\n",
    "\n",
    "This final project examines the level of knowledge the students have learned from the course. The following course outcomes will be checked against the content of the report:\n",
    "\n",
    "Upon successful completion of this course, a student will be able to:\n",
    "* Describe the main steps and key issues in the process of acquiring and preparing data for data analytics.\n",
    "* Set up data analysis environment by integrating commonly used practical tools and programming packages.   \n",
    "* Explain different types of data storages and formats and apply appropriate tools for extracting and transforming data.\n",
    "* Create interactive and programming code for cleansing, wrangling, reshaping, visualizing and analyzing various data sets. \n",
    "* Explain the concepts of aggregation and grouping, and apply tools and write programs to aggregate and group data.\n",
    "\n",
    "** Marking will be foucsed on both presentation and content.** \n",
    "\n",
    "## Written Presentation Requirements\n",
    "The report will be judged on the basis of visual appearance, grammatical correctness, and quality of writing, as well as its contents. Please make sure that the text of your report is well-structured, using paragraphs, full sentences, and other features of well-written presentation.\n",
    "\n",
    "## Technical Content:\n",
    "* Is the problem well defined and described thoroughly?\n",
    "* Is the size and complexity of the data set used in this project comparable to that of the example data sets used in the lectures and assignments?\n",
    "* Did the report describe the charactriatics of the data?\n",
    "* Did the report describe the goals of the data analysis?\n",
    "* Did the analysis use plotting methods for visualization? Does the visualization convey meaningful messages?\n",
    "* Did the analysis use wrangling, cleaning, and preparation methods? Does the work on wrangling, cleaning, and preparation demonstrate the student's knowlegde about these topics covered in this course?\n",
    "* Did the analysis conduct aggretation and create descriptive statistics? Does the work on aggregation and descriptive statistics demonstrate the student's knowlegde about these topics covered in this course?\n",
    "* Only those projects that exceed the sophistication of the final data analysis examples and assignments can be marked as the highest level of grade.\n",
    "* Overall, what is the rating of this project?"
   ]
  },
  {
   "cell_type": "code",
   "execution_count": null,
   "metadata": {},
   "outputs": [],
   "source": []
  }
 ],
 "metadata": {
  "kernelspec": {
   "display_name": "Python 3",
   "language": "python",
   "name": "python3"
  },
  "language_info": {
   "codemirror_mode": {
    "name": "ipython",
    "version": 3
   },
   "file_extension": ".py",
   "mimetype": "text/x-python",
   "name": "python",
   "nbconvert_exporter": "python",
   "pygments_lexer": "ipython3",
   "version": "3.6.4"
  }
 },
 "nbformat": 4,
 "nbformat_minor": 2
}
