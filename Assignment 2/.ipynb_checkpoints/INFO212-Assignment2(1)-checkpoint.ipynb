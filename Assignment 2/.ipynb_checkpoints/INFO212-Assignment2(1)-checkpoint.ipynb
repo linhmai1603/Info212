{
 "cells": [
  {
   "cell_type": "markdown",
   "metadata": {},
   "source": [
    "<h1 style=\"text-align:center\"> Drexel University </h1>\n",
    "<h2 style = \"text-align:center\"> College of Computing and Informatics</h2>\n",
    "<h2 style = \"text-align:center\">INFO 212: Data Science Programming I</h2>\n",
    "<h3 style = \"text-align:center\">Assignment 2</h3>\n",
    "<div style=\"text-align:center; border-style:solid; padding: 10px\">\n",
    "<div style=\"font-weight:bold\">Due Date: Sunday, April 29, 2018</div>\n",
    "This assignment counts for 10% of the final grade\n",
    "</div>\n",
    "\n",
    "<h3 style=\"color:red; font-weight:bold; text-decoration: underline\">DON'T FORGET TO PUT YOUR NAME BELOW</h3>\n",
    "\n",
    "### NAME: Linh Mai\n",
    "\n",
    "\n",
    "### A. Assignment Overview\n",
    "This assignment provides the opportunity for you to practice with the capabilities in Python Numpy and Pandas. \n",
    "\n",
    "### B. What to Hand In\n",
    "\t\n",
    "Sumbit a completed this Jupyter notebook. \n",
    "\n",
    "### C. How to Hand In\n",
    "\n",
    "Submit your Jupyter notebook file through the course website in the Blackboard Learn system.\n",
    "\n",
    "### D. When to Hand In\n",
    "\n",
    "1. Submit your assignment no later than 11:59pm in the due date.\n",
    "2. There will be a 10% (absolute value) deduction for each day of lateness, to a maximum of 3 days; assignments will not be accepted beyond that point. Missing work will earn a zero grade.\n",
    "\n",
    "### E. Written Presentation Requirements (if applicable)\n",
    "Images must be clear and legible. Assignments will be judged on the basis of visual appearance, grammatical correctness, and quality of writing, as well as their contents. Please make sure that the text of your assignments is well-structured, using paragraphs, full sentences, and other features of well-written presentation. Text font size should be either 11 or 12 points.\n",
    "\n",
    "### F. Marking Schemes:\n",
    "\n",
    "Marking assignments will be based on several aspects: presentation, correctness and coding styles. \n",
    "\n",
    "For programming questions, 10% of the mark will be judged on the coding style. \n",
    "\n",
    "The following is a set of guidelines for the coding style in this course:\n",
    "1. Write a good comment for each variable, each method, each control branch, and each loop.\n",
    "2. Use appropriate indentations to indicate control flows and blocks of code. \n",
    "3. Your method comments must mention the purpose of each parameter, and must be grammatically correct. \n",
    "4. Each line must be less than 80 characters long including tabs and spaces. \n",
    "5. Put a blank space before and after every operator. \n",
    "6. When breaking up a long line, break it before an operator, not after. \n",
    "\n",
    "### G. Data Sets\n",
    "\n",
    "This assignment needs the data sets posted in the Week 3 module. Follow the instructions inside Week 3 module to download and unpack the \"Inflammation-data\" and \"Wine Reviews\" data sets.\n",
    "\n",
    "### H. Answer the following questions"
   ]
  },
  {
   "cell_type": "markdown",
   "metadata": {},
   "source": [
    "#### Question 1:\n",
    "Write a program to list all the inflammation csv files in the 'inflammation-data' directory and count the number of such files. An inflammation csv file has a name containing 'inflammation' and with extension '.csv'."
   ]
  },
  {
   "cell_type": "code",
   "execution_count": 5,
   "metadata": {},
   "outputs": [
    {
     "name": "stdout",
     "output_type": "stream",
     "text": [
      "inflammation-01.csv\n",
      "inflammation-02.csv\n",
      "inflammation-03.csv\n",
      "inflammation-04.csv\n",
      "inflammation-05.csv\n",
      "inflammation-06.csv\n",
      "inflammation-07.csv\n",
      "inflammation-08.csv\n",
      "inflammation-09.csv\n",
      "inflammation-10.csv\n",
      "inflammation-11.csv\n",
      "inflammation-12.csv\n"
     ]
    },
    {
     "data": {
      "text/plain": [
       "12"
      ]
     },
     "execution_count": 5,
     "metadata": {},
     "output_type": "execute_result"
    }
   ],
   "source": [
    "# Write your code below\n",
    "import os\n",
    "def find_file(fname,extension):\n",
    "    count = 0\n",
    "    for file in os.listdir(\"datasets/inflammation-data\"):\n",
    "        if file.endswith(extension) and file.startswith(fname):\n",
    "            count += 1\n",
    "            print(file)\n",
    "    return count\n",
    "find_file(\"inflammation\",\".csv\")"
   ]
  },
  {
   "cell_type": "markdown",
   "metadata": {},
   "source": [
    "#### Question 2:\n",
    "Load the data in the file 'inflammation-05.csv' to an Numpy array. Answer the following questions:\n",
    "* Suppose the rows represent patients, and columns represent days. How many patients and how many days does the file contain inflammation data for?\n",
    "* Extract the values for the last 10 patients' inflammation in last 10 days.\n",
    "* Compute an array containing the average inflammation for all patients across all days. Plot the averages and label the plot with \"Average Inflammation of Patients\". \n",
    "* Compute an array containing the average inflammtion for all days across all patients. Plot the averages and label the plot with \"Average Inflammation of Days\" "
   ]
  },
  {
   "cell_type": "code",
   "execution_count": 40,
   "metadata": {},
   "outputs": [
    {
     "name": "stdout",
     "output_type": "stream",
     "text": [
      "The number of patients is 60\n",
      "\n",
      "The number of days is 40\n",
      "\n",
      "The values for the last 10 patients' inflammation in last 10 days are : \n",
      "[[5. 2. 8. 4. 2. 4. 2. 0. 1. 0.]\n",
      " [6. 7. 8. 1. 4. 4. 1. 0. 2. 0.]\n",
      " [5. 7. 6. 6. 4. 3. 4. 0. 1. 0.]\n",
      " [8. 9. 6. 6. 6. 3. 3. 1. 1. 0.]\n",
      " [7. 7. 4. 5. 6. 4. 4. 0. 1. 1.]\n",
      " [6. 9. 6. 3. 4. 5. 3. 2. 0. 0.]\n",
      " [6. 7. 4. 2. 1. 4. 2. 1. 0. 1.]\n",
      " [2. 5. 7. 6. 1. 5. 4. 0. 1. 1.]\n",
      " [2. 6. 6. 3. 2. 5. 4. 1. 2. 1.]\n",
      " [6. 9. 5. 3. 3. 2. 4. 1. 0. 1.]]\n",
      "\n",
      "The average inflammation for all patients across all days is: \n",
      "[5.775 6.35  6.3   6.7   6.3   6.225 6.5   5.875 6.55  6.225 6.6   5.65\n",
      " 4.85  6.6   5.025 5.925 6.4   7.1   6.6   7.1   5.425 5.775 5.725 6.475\n",
      " 6.5   6.2   6.075 6.475 5.45  5.9   5.275 6.1   6.475 6.15  5.1   5.9\n",
      " 5.9   6.2   6.55  6.35  5.55  7.025 6.425 6.2   5.2   6.6   6.1   5.725\n",
      " 6.425 6.6   6.45  6.425 6.475 5.7   6.425 5.45  5.075 5.825 6.55  6.225]\n",
      "\n",
      "The average inflammation for all days across all patients is: \n",
      "[ 0.          0.36666667  1.05        1.46666667  2.56666667  3.08333333\n",
      "  4.          3.78333333  4.7         5.31666667  6.21666667  6.46666667\n",
      "  7.88333333  8.53333333  8.98333333  8.73333333  9.4        10.63333333\n",
      " 11.68333333 12.1        11.85       11.85       10.5        10.8\n",
      "  9.83333333  9.18333333  9.03333333  7.43333333  7.21666667  6.36666667\n",
      "  5.73333333  6.15        5.38333333  4.13333333  3.65        3.11666667\n",
      "  2.78333333  1.3         0.9         0.55      ]\n",
      "\n"
     ]
    },
    {
     "data": {
      "image/png": "[encoded data removed]",
      "text/plain": [
       "<matplotlib.figure.Figure at 0x20917bf9160>"
      ]
     },
     "metadata": {},
     "output_type": "display_data"
    }
   ],
   "source": [
    "# Write your code below\n",
    "import pandas as pd\n",
    "import numpy as np\n",
    "import matplotlib.pyplot as plt\n",
    "%matplotlib inline\n",
    "def display_data(data):\n",
    "    \n",
    "    print(\"The number of patients is \" + str(data.shape[0]))\n",
    "    print()\n",
    "    print(\"The number of days is \" +str(data.shape[1]))\n",
    "    print()\n",
    "    print(\"The values for the last 10 patients' inflammation in last 10 days are : \\n\" +str(data[50:60, 30:40]))\n",
    "    print()\n",
    "    daily_averages = np.mean(data, axis = 1)\n",
    "    print(\"The average inflammation for all patients across all days is: \\n\" +str (daily_averages))\n",
    "    print()\n",
    "    patient_averages = np.mean(data, axis = 0)\n",
    "    print(\"The average inflammation for all days across all patients is: \\n\" +str (patient_averages))\n",
    "    print()\n",
    "\n",
    "    fig = plt.figure(figsize=(10, 2))\n",
    "    axes1 = fig.add_subplot(131)\n",
    "    axes2 = fig.add_subplot(132)\n",
    "\n",
    "\n",
    "    axes1.plot(daily_averages)\n",
    "    axes1.set_ylabel(\"Average Inflammation of Days\")\n",
    "    axes2.plot(patient_averages)\n",
    "    axes2.set_ylabel(\"Average Inflammation of Patients\")\n",
    "\n",
    "    plt.tight_layout()\n",
    "\n",
    "data = np.loadtxt('datasets/inflammation-data/inflammation-05.csv', delimiter = \",\")\n",
    "display_data(data)"
   ]
  },
  {
   "cell_type": "markdown",
   "metadata": {},
   "source": [
    "#### Qestion 3:\n",
    "Given the following list of file names: \n",
    "```\n",
    "filenames = ['inflammation-02.csv', 'inflammation-04.csv', 'inflammation-06.csv']\n",
    "```\n",
    "Write a program to plot the daily averages, maximums, and minimums of inflammation for each of the file. Your plot should have three rows each of which shows side-by-side plots of average, max, and min. The following figure illustrates the expected outcome:\n",
    "![](assignment2-question3.png)"
   ]
  },
  {
   "cell_type": "code",
   "execution_count": null,
   "metadata": {
    "collapsed": true
   },
   "outputs": [],
   "source": [
    "# Write your code here.\n"
   ]
  },
  {
   "cell_type": "markdown",
   "metadata": {},
   "source": [
    "#### Question 4: \n",
    "Download the data file \"winemag-data-130k-v2.csv\" and load it into a Pandas DataFrame using the column 0 as index. This data set contains 130k reviews for different wine verieties. Answer the following questions:\n",
    "* What features do the reviews use?\n",
    "* What is the description for the third view?\n",
    "* Select the country, province, region_1, and region_2 columns of the records with the 0, 1, 10, and 100 index positions.\n",
    "* Select all the reviews for wines made in 'Italy'. How many reviews are there for wines made in 'Italy'?\n",
    "* Suppose the 'points' column represents the rating of a wine. An above-averagely good wine has a value in 'points' equal or greater than 90. Between France and Italy, which country produces more above-averagely good wines?"
   ]
  },
  {
   "cell_type": "code",
   "execution_count": null,
   "metadata": {
    "collapsed": true
   },
   "outputs": [],
   "source": [
    "# Write your code here.\n"
   ]
  },
  {
   "cell_type": "markdown",
   "metadata": {},
   "source": [
    "#### Question 5:\n",
    "Continue to work on the DataFrame of wine review loaded in Question 4. Answer the following questions:\n",
    "* What countries are represented in the data set?\n",
    "* What countries appear in the dataset most often?\n",
    "* What is the median of the price?\n",
    "* Create a new column 'price_norm' by subtracting the median price from the price column. Use the DataFrame.apply method.\n",
    "* Create a new column 'bargain' which contains the points-to-price ratio. Which wine is the \"best bargain\", e.g., which wine has the highest points-to-price ratio in the dataset?"
   ]
  },
  {
   "cell_type": "code",
   "execution_count": null,
   "metadata": {
    "collapsed": true
   },
   "outputs": [],
   "source": [
    "# Write your code here.\n"
   ]
  }
 ],
 "metadata": {
  "kernelspec": {
   "display_name": "Python 3",
   "language": "python",
   "name": "python3"
  },
  "language_info": {
   "codemirror_mode": {
    "name": "ipython",
    "version": 3
   },
   "file_extension": ".py",
   "mimetype": "text/x-python",
   "name": "python",
   "nbconvert_exporter": "python",
   "pygments_lexer": "ipython3",
   "version": "3.6.4"
  }
 },
 "nbformat": 4,
 "nbformat_minor": 2
}
